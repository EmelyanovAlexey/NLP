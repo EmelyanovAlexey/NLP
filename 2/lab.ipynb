{
 "cells": [
  {
   "cell_type": "code",
   "execution_count": 2,
   "id": "8202f17c",
   "metadata": {},
   "outputs": [
    {
     "name": "stdout",
     "output_type": "stream",
     "text": [
      "Collecting spacy==3.0.0\n",
      "  Using cached spacy-3.0.0.tar.gz (7.0 MB)\n",
      "  Installing build dependencies: started\n",
      "  Installing build dependencies: finished with status 'done'\n",
      "  Getting requirements to build wheel: started\n",
      "  Getting requirements to build wheel: finished with status 'error'\n"
     ]
    },
    {
     "name": "stderr",
     "output_type": "stream",
     "text": [
      "  ERROR: Command errored out with exit status 1:\n",
      "   command: 'C:\\Users\\emely\\AppData\\Local\\Programs\\Python\\Python310\\python.exe' 'C:\\Users\\emely\\AppData\\Local\\Programs\\Python\\Python310\\lib\\site-packages\\pip\\_vendor\\pep517\\in_process\\_in_process.py' get_requires_for_build_wheel 'C:\\Users\\emely\\AppData\\Local\\Temp\\tmpg3m1ux7i'\n",
      "       cwd: C:\\Users\\emely\\AppData\\Local\\Temp\\pip-install-_8whz8bq\\spacy_01b71bca0fe347c8b24cf74e6966bb47\n",
      "  Complete output (164 lines):\n",
      "  Copied C:\\Users\\emely\\AppData\\Local\\Temp\\pip-install-_8whz8bq\\spacy_01b71bca0fe347c8b24cf74e6966bb47\\setup.cfg -> C:\\Users\\emely\\AppData\\Local\\Temp\\pip-install-_8whz8bq\\spacy_01b71bca0fe347c8b24cf74e6966bb47\\spacy\\tests\\package\n",
      "  Copied C:\\Users\\emely\\AppData\\Local\\Temp\\pip-install-_8whz8bq\\spacy_01b71bca0fe347c8b24cf74e6966bb47\\pyproject.toml -> C:\\Users\\emely\\AppData\\Local\\Temp\\pip-install-_8whz8bq\\spacy_01b71bca0fe347c8b24cf74e6966bb47\\spacy\\tests\\package\n",
      "  Cythonizing sources\n",
      "  Compiling spacy/training/example.pyx because it changed.\n",
      "  Compiling spacy/parts_of_speech.pyx because it changed.\n",
      "  Compiling spacy/strings.pyx because it changed.\n",
      "  Compiling spacy/lexeme.pyx because it changed.\n",
      "  Compiling spacy/vocab.pyx because it changed.\n",
      "  Compiling spacy/attrs.pyx because it changed.\n",
      "  Compiling spacy/kb.pyx because it changed.\n",
      "  Compiling spacy/ml/parser_model.pyx because it changed.\n",
      "  Compiling spacy/morphology.pyx because it changed.\n",
      "  Compiling spacy/pipeline/dep_parser.pyx because it changed.\n",
      "  Compiling spacy/pipeline/morphologizer.pyx because it changed.\n",
      "  Compiling spacy/pipeline/multitask.pyx because it changed.\n",
      "  Compiling spacy/pipeline/ner.pyx because it changed.\n",
      "  Compiling spacy/pipeline/pipe.pyx because it changed.\n",
      "  Compiling spacy/pipeline/trainable_pipe.pyx because it changed.\n",
      "  Compiling spacy/pipeline/sentencizer.pyx because it changed.\n",
      "  Compiling spacy/pipeline/senter.pyx because it changed.\n",
      "  Compiling spacy/pipeline/tagger.pyx because it changed.\n",
      "  Compiling spacy/pipeline/transition_parser.pyx because it changed.\n",
      "  Compiling spacy/pipeline/_parser_internals/arc_eager.pyx because it changed.\n",
      "  Compiling spacy/pipeline/_parser_internals/ner.pyx because it changed.\n",
      "  Compiling spacy/pipeline/_parser_internals/nonproj.pyx because it changed.\n",
      "  Compiling spacy/pipeline/_parser_internals/_state.pyx because it changed.\n",
      "  Compiling spacy/pipeline/_parser_internals/stateclass.pyx because it changed.\n",
      "  Compiling spacy/pipeline/_parser_internals/transition_system.pyx because it changed.\n",
      "  Compiling spacy/pipeline/_parser_internals/_beam_utils.pyx because it changed.\n",
      "  Compiling spacy/tokenizer.pyx because it changed.\n",
      "  Compiling spacy/training/align.pyx because it changed.\n",
      "  Compiling spacy/training/gold_io.pyx because it changed.\n",
      "  Compiling spacy/tokens/doc.pyx because it changed.\n",
      "  Compiling spacy/tokens/span.pyx because it changed.\n",
      "  Compiling spacy/tokens/token.pyx because it changed.\n",
      "  Compiling spacy/tokens/span_group.pyx because it changed.\n",
      "  Compiling spacy/tokens/graph.pyx because it changed.\n",
      "  Compiling spacy/tokens/morphanalysis.pyx because it changed.\n",
      "  Compiling spacy/tokens/_retokenize.pyx because it changed.\n",
      "  Compiling spacy/matcher/matcher.pyx because it changed.\n",
      "  Compiling spacy/matcher/phrasematcher.pyx because it changed.\n",
      "  Compiling spacy/matcher/dependencymatcher.pyx because it changed.\n",
      "  Compiling spacy/symbols.pyx because it changed.\n",
      "  Compiling spacy/vectors.pyx because it changed.\n",
      "  [ 1/41] Cythonizing spacy/attrs.pyx\n",
      "  [ 2/41] Cythonizing spacy/kb.pyx\n",
      "  \n",
      "  Error compiling Cython file:\n",
      "  ------------------------------------------------------------\n",
      "  ...\n",
      "      int length\n",
      "  \n",
      "  \n",
      "  cdef class Vocab:\n",
      "      cdef Pool mem\n",
      "      cpdef readonly StringStore strings\n",
      "            ^\n",
      "  ------------------------------------------------------------\n",
      "  \n",
      "  spacy\\vocab.pxd:28:10: Variables cannot be declared with 'cpdef'. Use 'cdef' instead.\n",
      "  \n",
      "  Error compiling Cython file:\n",
      "  ------------------------------------------------------------\n",
      "  ...\n",
      "  \n",
      "  \n",
      "  cdef class Vocab:\n",
      "      cdef Pool mem\n",
      "      cpdef readonly StringStore strings\n",
      "      cpdef public Morphology morphology\n",
      "            ^\n",
      "  ------------------------------------------------------------\n",
      "  \n",
      "  spacy\\vocab.pxd:29:10: Variables cannot be declared with 'cpdef'. Use 'cdef' instead.\n",
      "  \n",
      "  Error compiling Cython file:\n",
      "  ------------------------------------------------------------\n",
      "  ...\n",
      "  \n",
      "  cdef class Vocab:\n",
      "      cdef Pool mem\n",
      "      cpdef readonly StringStore strings\n",
      "      cpdef public Morphology morphology\n",
      "      cpdef public object vectors\n",
      "            ^\n",
      "  ------------------------------------------------------------\n",
      "  \n",
      "  spacy\\vocab.pxd:30:10: Variables cannot be declared with 'cpdef'. Use 'cdef' instead.\n",
      "  \n",
      "  Error compiling Cython file:\n",
      "  ------------------------------------------------------------\n",
      "  ...\n",
      "  cdef class Vocab:\n",
      "      cdef Pool mem\n",
      "      cpdef readonly StringStore strings\n",
      "      cpdef public Morphology morphology\n",
      "      cpdef public object vectors\n",
      "      cpdef public object _lookups\n",
      "            ^\n",
      "  ------------------------------------------------------------\n",
      "  \n",
      "  spacy\\vocab.pxd:31:10: Variables cannot be declared with 'cpdef'. Use 'cdef' instead.\n",
      "  \n",
      "  Error compiling Cython file:\n",
      "  ------------------------------------------------------------\n",
      "  ...\n",
      "      cdef Pool mem\n",
      "      cpdef readonly StringStore strings\n",
      "      cpdef public Morphology morphology\n",
      "      cpdef public object vectors\n",
      "      cpdef public object _lookups\n",
      "      cpdef public object writing_system\n",
      "            ^\n",
      "  ------------------------------------------------------------\n",
      "  \n",
      "  spacy\\vocab.pxd:32:10: Variables cannot be declared with 'cpdef'. Use 'cdef' instead.\n",
      "  \n",
      "  Error compiling Cython file:\n",
      "  ------------------------------------------------------------\n",
      "  ...\n",
      "      cpdef readonly StringStore strings\n",
      "      cpdef public Morphology morphology\n",
      "      cpdef public object vectors\n",
      "      cpdef public object _lookups\n",
      "      cpdef public object writing_system\n",
      "      cpdef public object get_noun_chunks\n",
      "            ^\n",
      "  ------------------------------------------------------------\n",
      "  \n",
      "  spacy\\vocab.pxd:33:10: Variables cannot be declared with 'cpdef'. Use 'cdef' instead.\n",
      "  \n",
      "  Error compiling Cython file:\n",
      "  ------------------------------------------------------------\n",
      "  ...\n",
      "      cdef float prior_prob\n",
      "  \n",
      "  \n",
      "  cdef class KnowledgeBase:\n",
      "      cdef Pool mem\n",
      "      cpdef readonly Vocab vocab\n",
      "            ^\n",
      "  ------------------------------------------------------------\n",
      "  \n",
      "  spacy\\kb.pxd:31:10: Variables cannot be declared with 'cpdef'. Use 'cdef' instead.\n",
      "  Traceback (most recent call last):\n",
      "    File \"C:\\Users\\emely\\AppData\\Local\\Programs\\Python\\Python310\\lib\\site-packages\\pip\\_vendor\\pep517\\in_process\\_in_process.py\", line 349, in <module>\n",
      "      main()\n",
      "    File \"C:\\Users\\emely\\AppData\\Local\\Programs\\Python\\Python310\\lib\\site-packages\\pip\\_vendor\\pep517\\in_process\\_in_process.py\", line 331, in main\n",
      "      json_out['return_val'] = hook(**hook_input['kwargs'])\n",
      "    File \"C:\\Users\\emely\\AppData\\Local\\Programs\\Python\\Python310\\lib\\site-packages\\pip\\_vendor\\pep517\\in_process\\_in_process.py\", line 117, in get_requires_for_build_wheel\n",
      "      return hook(config_settings)\n",
      "    File \"C:\\Users\\emely\\AppData\\Local\\Temp\\pip-build-env-6zr9thx6\\overlay\\Lib\\site-packages\\setuptools\\build_meta.py\", line 355, in get_requires_for_build_wheel\n",
      "      return self._get_build_requires(config_settings, requirements=['wheel'])\n",
      "    File \"C:\\Users\\emely\\AppData\\Local\\Temp\\pip-build-env-6zr9thx6\\overlay\\Lib\\site-packages\\setuptools\\build_meta.py\", line 325, in _get_build_requires\n",
      "      self.run_setup()\n",
      "    File \"C:\\Users\\emely\\AppData\\Local\\Temp\\pip-build-env-6zr9thx6\\overlay\\Lib\\site-packages\\setuptools\\build_meta.py\", line 341, in run_setup\n",
      "      exec(code, locals())\n",
      "    File \"<string>\", line 225, in <module>\n",
      "    File \"<string>\", line 211, in setup_package\n",
      "    File \"C:\\Users\\emely\\AppData\\Local\\Temp\\pip-build-env-6zr9thx6\\overlay\\Lib\\site-packages\\Cython\\Build\\Dependencies.py\", line 1134, in cythonize\n",
      "      cythonize_one(*args)\n",
      "    File \"C:\\Users\\emely\\AppData\\Local\\Temp\\pip-build-env-6zr9thx6\\overlay\\Lib\\site-packages\\Cython\\Build\\Dependencies.py\", line 1301, in cythonize_one\n",
      "      raise CompileError(None, pyx_file)\n",
      "  Cython.Compiler.Errors.CompileError: spacy/kb.pyx\n",
      "  ----------------------------------------\n",
      "WARNING: Discarding https://files.pythonhosted.org/packages/ff/49/990573a86db7f8db115a9f32c2ecc904eea2cafd680866b2722de0d41100/spacy-3.0.0.tar.gz#sha256=6851b74cacf027264c36de40903d4543569196ccaf74ed0c04295666e8e79c50 (from https://pypi.org/simple/spacy/) (requires-python:>=3.6). Command errored out with exit status 1: 'C:\\Users\\emely\\AppData\\Local\\Programs\\Python\\Python310\\python.exe' 'C:\\Users\\emely\\AppData\\Local\\Programs\\Python\\Python310\\lib\\site-packages\\pip\\_vendor\\pep517\\in_process\\_in_process.py' get_requires_for_build_wheel 'C:\\Users\\emely\\AppData\\Local\\Temp\\tmpg3m1ux7i' Check the logs for full command output.\n",
      "ERROR: Could not find a version that satisfies the requirement spacy==3.0.0 (from versions: 0.31, 0.32, 0.33, 0.40, 0.51, 0.52, 0.60, 0.61, 0.62, 0.63, 0.64, 0.65, 0.67, 0.68, 0.70, 0.80, 0.81, 0.82, 0.83, 0.84, 0.85, 0.86, 0.87, 0.88, 0.89, 0.90, 0.91, 0.92, 0.93, 0.94, 0.95, 0.97, 0.98, 0.99, 0.100.0, 0.100.1, 0.100.2, 0.100.3, 0.100.4, 0.100.5, 0.100.6, 0.100.7, 0.101.0, 1.0.1, 1.0.2, 1.0.3, 1.0.4, 1.0.5, 1.1.0, 1.1.1, 1.1.2, 1.2.0, 1.3.0, 1.4.0, 1.5.0, 1.5.1, 1.6.0, 1.7.0, 1.7.1, 1.7.2, 1.7.3, 1.7.5, 1.8.0, 1.8.1, 1.8.2, 1.9.0, 1.10.0, 1.10.1, 2.0.0, 2.0.1.dev0, 2.0.1, 2.0.2.dev0, 2.0.2, 2.0.3.dev0, 2.0.3, 2.0.4.dev0, 2.0.4, 2.0.5.dev0, 2.0.5, 2.0.6.dev0, 2.0.6, 2.0.7, 2.0.8, 2.0.9, 2.0.10.dev0, 2.0.10, 2.0.11.dev0, 2.0.11, 2.0.12.dev0, 2.0.12.dev1, 2.0.12, 2.0.13.dev0, 2.0.13.dev1, 2.0.13.dev2, 2.0.13.dev4, 2.0.13, 2.0.14.dev0, 2.0.14.dev1, 2.0.15, 2.0.16.dev0, 2.0.16, 2.0.17.dev0, 2.0.17.dev1, 2.0.17, 2.0.18.dev0, 2.0.18.dev1, 2.0.18, 2.1.0, 2.1.1.dev0, 2.1.1, 2.1.2, 2.1.3, 2.1.4, 2.1.5, 2.1.6, 2.1.7.dev0, 2.1.7, 2.1.8, 2.1.9, 2.2.0.dev10, 2.2.0.dev11, 2.2.0.dev13, 2.2.0.dev15, 2.2.0.dev17, 2.2.0.dev18, 2.2.0.dev19, 2.2.0, 2.2.1, 2.2.2.dev0, 2.2.2.dev4, 2.2.2, 2.2.3.dev0, 2.2.3, 2.2.4, 2.3.0.dev1, 2.3.0, 2.3.1, 2.3.2, 2.3.3.dev0, 2.3.3, 2.3.4, 2.3.5, 2.3.6, 2.3.7, 2.3.8, 2.3.9, 3.0.0, 3.0.1.dev0, 3.0.1, 3.0.2, 3.0.3, 3.0.4, 3.0.5, 3.0.6, 3.0.7, 3.0.8, 3.0.9, 3.1.0, 3.1.1, 3.1.2, 3.1.3, 3.1.4, 3.1.5, 3.1.6, 3.1.7, 3.2.0, 3.2.1, 3.2.2, 3.2.3, 3.2.4, 3.2.5, 3.2.6, 3.3.0.dev0, 3.3.0, 3.3.1, 3.3.2, 3.3.3, 3.4.0, 3.4.1, 3.4.2, 3.4.3, 3.4.4, 3.5.0, 3.5.1, 3.5.2, 3.5.3, 3.5.4, 3.6.0.dev0, 3.6.0.dev1, 3.6.0, 3.6.1, 3.7.0.dev0, 4.0.0.dev0, 4.0.0.dev1)\n",
      "ERROR: No matching distribution found for spacy==3.0.0\n",
      "WARNING: You are using pip version 21.2.4; however, version 23.2.1 is available.\n",
      "You should consider upgrading via the 'C:\\Users\\emely\\AppData\\Local\\Programs\\Python\\Python310\\python.exe -m pip install --upgrade pip' command.\n"
     ]
    },
    {
     "name": "stdout",
     "output_type": "stream",
     "text": [
      "Requirement already satisfied: ml-datasets in c:\\users\\emely\\appdata\\local\\programs\\python\\python310\\lib\\site-packages (0.2.0)\n",
      "Requirement already satisfied: catalogue<3.0.0,>=0.2.0 in c:\\users\\emely\\appdata\\local\\programs\\python\\python310\\lib\\site-packages (from ml-datasets) (2.0.10)\n",
      "Requirement already satisfied: srsly<3.0.0,>=1.0.1 in c:\\users\\emely\\appdata\\local\\programs\\python\\python310\\lib\\site-packages (from ml-datasets) (2.4.8)\n",
      "Requirement already satisfied: tqdm<5.0.0,>=4.10.0 in c:\\users\\emely\\appdata\\local\\programs\\python\\python310\\lib\\site-packages (from ml-datasets) (4.66.1)\n",
      "Requirement already satisfied: numpy>=1.7.0 in c:\\users\\emely\\appdata\\local\\programs\\python\\python310\\lib\\site-packages (from ml-datasets) (1.26.0)\n",
      "Requirement already satisfied: colorama in c:\\users\\emely\\appdata\\roaming\\python\\python310\\site-packages (from tqdm<5.0.0,>=4.10.0->ml-datasets) (0.4.6)\n"
     ]
    },
    {
     "name": "stderr",
     "output_type": "stream",
     "text": [
      "WARNING: You are using pip version 21.2.4; however, version 23.2.1 is available.\n",
      "You should consider upgrading via the 'C:\\Users\\emely\\AppData\\Local\\Programs\\Python\\Python310\\python.exe -m pip install --upgrade pip' command.\n",
      "WARNING: You are using pip version 21.2.4; however, version 23.2.1 is available.\n",
      "You should consider upgrading via the 'c:\\Users\\emely\\AppData\\Local\\Programs\\Python\\Python310\\python.exe -m pip install --upgrade pip' command.\n"
     ]
    },
    {
     "name": "stdout",
     "output_type": "stream",
     "text": [
      "Collecting en-core-web-md==3.6.0\n",
      "  Downloading https://github.com/explosion/spacy-models/releases/download/en_core_web_md-3.6.0/en_core_web_md-3.6.0-py3-none-any.whl (42.8 MB)\n",
      "Requirement already satisfied: spacy<3.7.0,>=3.6.0 in c:\\users\\emely\\appdata\\local\\programs\\python\\python310\\lib\\site-packages (from en-core-web-md==3.6.0) (3.6.1)\n",
      "Requirement already satisfied: pathy>=0.10.0 in c:\\users\\emely\\appdata\\local\\programs\\python\\python310\\lib\\site-packages (from spacy<3.7.0,>=3.6.0->en-core-web-md==3.6.0) (0.10.2)\n",
      "Requirement already satisfied: setuptools in c:\\users\\emely\\appdata\\local\\programs\\python\\python310\\lib\\site-packages (from spacy<3.7.0,>=3.6.0->en-core-web-md==3.6.0) (58.1.0)\n",
      "Requirement already satisfied: wasabi<1.2.0,>=0.9.1 in c:\\users\\emely\\appdata\\local\\programs\\python\\python310\\lib\\site-packages (from spacy<3.7.0,>=3.6.0->en-core-web-md==3.6.0) (1.1.2)\n",
      "Requirement already satisfied: numpy>=1.15.0 in c:\\users\\emely\\appdata\\local\\programs\\python\\python310\\lib\\site-packages (from spacy<3.7.0,>=3.6.0->en-core-web-md==3.6.0) (1.26.0)\n",
      "Requirement already satisfied: spacy-legacy<3.1.0,>=3.0.11 in c:\\users\\emely\\appdata\\local\\programs\\python\\python310\\lib\\site-packages (from spacy<3.7.0,>=3.6.0->en-core-web-md==3.6.0) (3.0.12)\n",
      "Requirement already satisfied: catalogue<2.1.0,>=2.0.6 in c:\\users\\emely\\appdata\\local\\programs\\python\\python310\\lib\\site-packages (from spacy<3.7.0,>=3.6.0->en-core-web-md==3.6.0) (2.0.10)\n",
      "Requirement already satisfied: murmurhash<1.1.0,>=0.28.0 in c:\\users\\emely\\appdata\\local\\programs\\python\\python310\\lib\\site-packages (from spacy<3.7.0,>=3.6.0->en-core-web-md==3.6.0) (1.0.10)\n",
      "Requirement already satisfied: pydantic!=1.8,!=1.8.1,<3.0.0,>=1.7.4 in c:\\users\\emely\\appdata\\local\\programs\\python\\python310\\lib\\site-packages (from spacy<3.7.0,>=3.6.0->en-core-web-md==3.6.0) (2.4.2)\n",
      "Requirement already satisfied: preshed<3.1.0,>=3.0.2 in c:\\users\\emely\\appdata\\local\\programs\\python\\python310\\lib\\site-packages (from spacy<3.7.0,>=3.6.0->en-core-web-md==3.6.0) (3.0.9)\n",
      "Requirement already satisfied: spacy-loggers<2.0.0,>=1.0.0 in c:\\users\\emely\\appdata\\local\\programs\\python\\python310\\lib\\site-packages (from spacy<3.7.0,>=3.6.0->en-core-web-md==3.6.0) (1.0.5)\n",
      "Requirement already satisfied: langcodes<4.0.0,>=3.2.0 in c:\\users\\emely\\appdata\\local\\programs\\python\\python310\\lib\\site-packages (from spacy<3.7.0,>=3.6.0->en-core-web-md==3.6.0) (3.3.0)\n",
      "Requirement already satisfied: cymem<2.1.0,>=2.0.2 in c:\\users\\emely\\appdata\\local\\programs\\python\\python310\\lib\\site-packages (from spacy<3.7.0,>=3.6.0->en-core-web-md==3.6.0) (2.0.8)\n",
      "Requirement already satisfied: srsly<3.0.0,>=2.4.3 in c:\\users\\emely\\appdata\\local\\programs\\python\\python310\\lib\\site-packages (from spacy<3.7.0,>=3.6.0->en-core-web-md==3.6.0) (2.4.8)\n",
      "Requirement already satisfied: requests<3.0.0,>=2.13.0 in c:\\users\\emely\\appdata\\local\\programs\\python\\python310\\lib\\site-packages (from spacy<3.7.0,>=3.6.0->en-core-web-md==3.6.0) (2.31.0)\n",
      "Requirement already satisfied: jinja2 in c:\\users\\emely\\appdata\\local\\programs\\python\\python310\\lib\\site-packages (from spacy<3.7.0,>=3.6.0->en-core-web-md==3.6.0) (3.1.2)\n",
      "Requirement already satisfied: packaging>=20.0 in c:\\users\\emely\\appdata\\roaming\\python\\python310\\site-packages (from spacy<3.7.0,>=3.6.0->en-core-web-md==3.6.0) (23.1)\n",
      "Requirement already satisfied: smart-open<7.0.0,>=5.2.1 in c:\\users\\emely\\appdata\\local\\programs\\python\\python310\\lib\\site-packages (from spacy<3.7.0,>=3.6.0->en-core-web-md==3.6.0) (6.4.0)\n",
      "Requirement already satisfied: typer<0.10.0,>=0.3.0 in c:\\users\\emely\\appdata\\local\\programs\\python\\python310\\lib\\site-packages (from spacy<3.7.0,>=3.6.0->en-core-web-md==3.6.0) (0.9.0)\n",
      "Requirement already satisfied: thinc<8.2.0,>=8.1.8 in c:\\users\\emely\\appdata\\local\\programs\\python\\python310\\lib\\site-packages (from spacy<3.7.0,>=3.6.0->en-core-web-md==3.6.0) (8.1.12)\n",
      "Requirement already satisfied: tqdm<5.0.0,>=4.38.0 in c:\\users\\emely\\appdata\\local\\programs\\python\\python310\\lib\\site-packages (from spacy<3.7.0,>=3.6.0->en-core-web-md==3.6.0) (4.66.1)\n",
      "Requirement already satisfied: annotated-types>=0.4.0 in c:\\users\\emely\\appdata\\local\\programs\\python\\python310\\lib\\site-packages (from pydantic!=1.8,!=1.8.1,<3.0.0,>=1.7.4->spacy<3.7.0,>=3.6.0->en-core-web-md==3.6.0) (0.5.0)\n",
      "Requirement already satisfied: typing-extensions>=4.6.1 in c:\\users\\emely\\appdata\\local\\programs\\python\\python310\\lib\\site-packages (from pydantic!=1.8,!=1.8.1,<3.0.0,>=1.7.4->spacy<3.7.0,>=3.6.0->en-core-web-md==3.6.0) (4.8.0)\n",
      "Requirement already satisfied: pydantic-core==2.10.1 in c:\\users\\emely\\appdata\\local\\programs\\python\\python310\\lib\\site-packages (from pydantic!=1.8,!=1.8.1,<3.0.0,>=1.7.4->spacy<3.7.0,>=3.6.0->en-core-web-md==3.6.0) (2.10.1)\n",
      "Requirement already satisfied: charset-normalizer<4,>=2 in c:\\users\\emely\\appdata\\local\\programs\\python\\python310\\lib\\site-packages (from requests<3.0.0,>=2.13.0->spacy<3.7.0,>=3.6.0->en-core-web-md==3.6.0) (3.2.0)\n",
      "Requirement already satisfied: urllib3<3,>=1.21.1 in c:\\users\\emely\\appdata\\local\\programs\\python\\python310\\lib\\site-packages (from requests<3.0.0,>=2.13.0->spacy<3.7.0,>=3.6.0->en-core-web-md==3.6.0) (2.0.5)\n",
      "Requirement already satisfied: idna<4,>=2.5 in c:\\users\\emely\\appdata\\local\\programs\\python\\python310\\lib\\site-packages (from requests<3.0.0,>=2.13.0->spacy<3.7.0,>=3.6.0->en-core-web-md==3.6.0) (3.4)\n",
      "Requirement already satisfied: certifi>=2017.4.17 in c:\\users\\emely\\appdata\\local\\programs\\python\\python310\\lib\\site-packages (from requests<3.0.0,>=2.13.0->spacy<3.7.0,>=3.6.0->en-core-web-md==3.6.0) (2023.7.22)\n",
      "Requirement already satisfied: confection<1.0.0,>=0.0.1 in c:\\users\\emely\\appdata\\local\\programs\\python\\python310\\lib\\site-packages (from thinc<8.2.0,>=8.1.8->spacy<3.7.0,>=3.6.0->en-core-web-md==3.6.0) (0.1.3)\n",
      "Requirement already satisfied: blis<0.8.0,>=0.7.8 in c:\\users\\emely\\appdata\\local\\programs\\python\\python310\\lib\\site-packages (from thinc<8.2.0,>=8.1.8->spacy<3.7.0,>=3.6.0->en-core-web-md==3.6.0) (0.7.11)\n",
      "Requirement already satisfied: colorama in c:\\users\\emely\\appdata\\roaming\\python\\python310\\site-packages (from tqdm<5.0.0,>=4.38.0->spacy<3.7.0,>=3.6.0->en-core-web-md==3.6.0) (0.4.6)\n",
      "Requirement already satisfied: click<9.0.0,>=7.1.1 in c:\\users\\emely\\appdata\\local\\programs\\python\\python310\\lib\\site-packages (from typer<0.10.0,>=0.3.0->spacy<3.7.0,>=3.6.0->en-core-web-md==3.6.0) (8.1.7)\n",
      "Requirement already satisfied: MarkupSafe>=2.0 in c:\\users\\emely\\appdata\\local\\programs\\python\\python310\\lib\\site-packages (from jinja2->spacy<3.7.0,>=3.6.0->en-core-web-md==3.6.0) (2.1.3)\n",
      "Installing collected packages: en-core-web-md\n",
      "Successfully installed en-core-web-md-3.6.0\n",
      "\u001b[38;5;2m✔ Download and installation successful\u001b[0m\n",
      "You can now load the package via spacy.load('en_core_web_md')\n"
     ]
    },
    {
     "name": "stderr",
     "output_type": "stream",
     "text": [
      "c:\\Users\\emely\\AppData\\Local\\Programs\\Python\\Python310\\lib\\site-packages\\tqdm\\auto.py:21: TqdmWarning: IProgress not found. Please update jupyter and ipywidgets. See https://ipywidgets.readthedocs.io/en/stable/user_install.html\n",
      "  from .autonotebook import tqdm as notebook_tqdm\n",
      "84131840it [00:15, 5330816.83it/s]                               \n"
     ]
    },
    {
     "name": "stdout",
     "output_type": "stream",
     "text": [
      "Untaring file...\n"
     ]
    }
   ],
   "source": [
    "!pip install spacy==3.0.0\n",
    "!pip install ml-datasets\n",
    "!python -m spacy download en_core_web_md"
   ]
  },
  {
   "cell_type": "code",
   "execution_count": null,
   "id": "dcb09da1",
   "metadata": {},
   "outputs": [],
   "source": [
    "import spacy\n",
    "from tqdm.auto import tqdm\n",
    "from spacy.tokens import DocBin\n",
    "from ml_datasets import imdb\n",
    "train_data, valid_data = imdb()\n",
    "nlp = spacy.load(\"en_core_web_md\")"
   ]
  },
  {
   "cell_type": "code",
   "execution_count": 3,
   "id": "df970514",
   "metadata": {},
   "outputs": [
    {
     "data": {
      "text/plain": [
       "'pos'"
      ]
     },
     "execution_count": 3,
     "metadata": {},
     "output_type": "execute_result"
    }
   ],
   "source": [
    "train_data[0][1]"
   ]
  },
  {
   "cell_type": "code",
   "execution_count": 4,
   "id": "8dbfd1f1",
   "metadata": {},
   "outputs": [
    {
     "data": {
      "text/plain": [
       "['tok2vec', 'tagger', 'parser', 'attribute_ruler', 'lemmatizer', 'ner']"
      ]
     },
     "execution_count": 4,
     "metadata": {},
     "output_type": "execute_result"
    }
   ],
   "source": [
    "nlp.pipe_names\n",
    "\n",
    "# wec2vec - вектор смещения (измерение описывает какой оспект) (по контексту делает вектор слова)\n",
    "# http://jalammar.github.io/illustrated-word2vec/\n",
    "# tok2vec - вектор смещения (измерение описывает какой оспект) (по контексту делает вектор слова)\n",
    "# tagger\n",
    "# parser\n",
    "# attribute_ruler\n",
    "# lemmatizer приводит слово в нормальную форму\n",
    "# ner"
   ]
  },
  {
   "cell_type": "code",
   "execution_count": 5,
   "id": "707d13fb",
   "metadata": {},
   "outputs": [],
   "source": [
    "def make_docs(data):\n",
    "    \"\"\"\n",
    "    this will take a list of texts and labels\n",
    "    and transform them in spacy documents\n",
    "    data: list(tuple(text, label))\n",
    "    returns: List(spacy.Doc.doc)\n",
    "    \"\"\"\n",
    "    docs = []\n",
    "    # nlp.pipe([texts]) намного быстрее, чем запуск\n",
    "    # nlp(text) для каждого текста\n",
    "    # as_tuples позволяет нам передавать кортеж,\n",
    "    # первый из которых обрабатывается как текст\n",
    "    # второй будет возвращен таким, какой он есть.\n",
    "    a = tqdm(nlp.pipe(data, as_tuples=True), total = len(data))\n",
    "    for doc, label in tqdm(nlp.pipe(data, as_tuples=True), total = len(data)):\n",
    "        if label == 'neg':\n",
    "            doc.cats[\"positive\"] = 0\n",
    "            doc.cats[\"negative\"] = 1\n",
    "        else:\n",
    "            doc.cats[\"positive\"] = 1\n",
    "            doc.cats[\"negative\"] = 0\n",
    "        docs.append(doc)\n",
    "    return docs"
   ]
  },
  {
   "cell_type": "code",
   "execution_count": 6,
   "id": "c8b7974c",
   "metadata": {},
   "outputs": [
    {
     "name": "stderr",
     "output_type": "stream",
     "text": [
      "100%|██████████| 100/100 [00:02<00:00, 35.25it/s]\n",
      "  0%|          | 0/100 [00:02<?, ?it/s]\n"
     ]
    }
   ],
   "source": [
    "num_texts = 100 # берем 100 текстов\n",
    "train_docs = make_docs(train_data[:num_texts])"
   ]
  },
  {
   "cell_type": "code",
   "execution_count": 15,
   "id": "fa8284de",
   "metadata": {},
   "outputs": [
    {
     "name": "stderr",
     "output_type": "stream",
     "text": [
      "100%|██████████| 100/100 [00:02<00:00, 36.06it/s]\n",
      "  0%|          | 0/100 [00:02<?, ?it/s]\n"
     ]
    }
   ],
   "source": [
    "# then we save it in a binary file to disc\n",
    "doc_bin = DocBin(docs=train_docs)\n",
    "doc_bin.to_disk(\"train.spacy\")\n",
    "# repeat for validation data\n",
    "valid_docs = make_docs(valid_data[:num_texts])\n",
    "doc_bin = DocBin(docs=valid_docs)\n",
    "doc_bin.to_disk(\"valid.spacy\")"
   ]
  },
  {
   "cell_type": "markdown",
   "id": "82a223f1",
   "metadata": {},
   "source": [
    "https://spacy.io/usage/training#quickstart\n",
    "\n",
    "base_config.cfg"
   ]
  },
  {
   "cell_type": "markdown",
   "id": "4604f6e9",
   "metadata": {},
   "source": [
    "# что здесь происходит: мы заполнили base_config, а эта команда на его основе прописывает config.cfg\n",
    "\n",
    "! python -m spacy init fill-config base_config.cfg config.cfg"
   ]
  },
  {
   "cell_type": "markdown",
   "id": "eae074bc",
   "metadata": {},
   "source": [
    "! python -m spacy train config.cfg --output ./output"
   ]
  },
  {
   "cell_type": "code",
   "execution_count": 16,
   "id": "9b456dcb",
   "metadata": {},
   "outputs": [
    {
     "name": "stdout",
     "output_type": "stream",
     "text": [
      "\u001b[38;5;2m✔ Auto-filled config with all values\u001b[0m\n",
      "\u001b[38;5;2m✔ Saved config\u001b[0m\n",
      "config.cfg\n",
      "You can now add your data and train your pipeline:\n",
      "python -m spacy train config.cfg --paths.train ./train.spacy --paths.dev ./dev.spacy\n"
     ]
    }
   ],
   "source": [
    "! python -m spacy init fill-config base_config.cfg config.cfg"
   ]
  },
  {
   "cell_type": "code",
   "execution_count": 17,
   "id": "1dbce2fd",
   "metadata": {},
   "outputs": [
    {
     "name": "stdout",
     "output_type": "stream",
     "text": [
      "\u001b[38;5;4mℹ Saving to output directory: output\u001b[0m\n",
      "\u001b[38;5;4mℹ Using CPU\u001b[0m\n",
      "\u001b[1m\n",
      "=========================== Initializing pipeline ===========================\u001b[0m\n",
      "\u001b[38;5;2m✔ Initialized pipeline\u001b[0m\n",
      "\u001b[1m\n",
      "============================= Training pipeline =============================\u001b[0m\n",
      "\u001b[38;5;4mℹ Pipeline: ['textcat']\u001b[0m\n",
      "\u001b[38;5;4mℹ Initial learn rate: 0.001\u001b[0m\n",
      "E    #       LOSS TEXTCAT  CATS_SCORE  SCORE \n",
      "---  ------  ------------  ----------  ------\n",
      "  0       0          0.25       28.06    0.28\n",
      "  2     200         49.80       51.00    0.51\n",
      "  4     400          4.41       60.10    0.60\n",
      "  6     600          0.00       58.80    0.59\n",
      "  8     800          0.00       52.43    0.52\n",
      " 10    1000          0.00       56.59    0.57\n",
      " 12    1200          0.00       54.84    0.55\n",
      " 14    1400          0.00       56.01    0.56\n",
      " 16    1600          0.00       54.84    0.55\n",
      " 18    1800          0.00       56.01    0.56\n",
      " 20    2000          0.00       54.84    0.55\n",
      "\u001b[38;5;2m✔ Saved pipeline to output directory\u001b[0m\n",
      "output\\model-last\n"
     ]
    }
   ],
   "source": [
    "! python -m spacy train config.cfg --output ./output"
   ]
  },
  {
   "cell_type": "markdown",
   "id": "5c64ae78",
   "metadata": {},
   "source": [
    "сгенерили крч модеели"
   ]
  },
  {
   "cell_type": "code",
   "execution_count": 18,
   "id": "4936ede0",
   "metadata": {},
   "outputs": [
    {
     "name": "stdout",
     "output_type": "stream",
     "text": [
      "no\n",
      "yes\n",
      "no\n",
      "no\n"
     ]
    }
   ],
   "source": [
    "nlp = spacy.load(\"output/model-best\")\n",
    "text=\"\"\n",
    "\n",
    "while text != 'quit':\n",
    "    text = input(\"Введи текст - \")\n",
    "    doc = nlp(text)\n",
    "    if doc.cats['positive'] > .5:\n",
    "        print('yes')\n",
    "    else:\n",
    "        print('no')\n",
    "\n"
   ]
  },
  {
   "cell_type": "markdown",
   "id": "1ccabecc",
   "metadata": {},
   "source": [
    "![Alt text](image.png)"
   ]
  }
 ],
 "metadata": {
  "kernelspec": {
   "display_name": "Python 3",
   "language": "python",
   "name": "python3"
  },
  "language_info": {
   "codemirror_mode": {
    "name": "ipython",
    "version": 3
   },
   "file_extension": ".py",
   "mimetype": "text/x-python",
   "name": "python",
   "nbconvert_exporter": "python",
   "pygments_lexer": "ipython3",
   "version": "3.10.2"
  }
 },
 "nbformat": 4,
 "nbformat_minor": 5
}
