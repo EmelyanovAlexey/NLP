{
 "cells": [
  {
   "cell_type": "markdown",
   "metadata": {},
   "source": [
    "# задание:\n",
    "- 1. Взять модель для суммаризации текстов https://huggingface.co/IlyaGusev/mbart_ru_sum_gazeta и запустить суммаризацию текстов на тестовой части вот этого датасета: https://huggingface.co/datasets/IlyaGusev/gazeta. Код, который это делает, есть в карточке модели. Посчитать метрики blue и rouge\n",
    "- 2. Дообучить модель google/mt5-small для суммаризации текстов из датасета https://huggingface.co/datasets/IlyaGusev/gazeta, запустить суммаризацию на тестовой части датасета, посчитать метрики blue и rouge\n",
    "Таким образом, у вас должно получиться сравнение метрик для оценки качества суммаризации, сделанной двумя разными моделями"
   ]
  },
  {
   "cell_type": "markdown",
   "metadata": {},
   "source": [
    "# Установка необходимых библиотек"
   ]
  },
  {
   "cell_type": "code",
   "execution_count": 1,
   "metadata": {},
   "outputs": [
    {
     "name": "stdout",
     "output_type": "stream",
     "text": [
      "Requirement already satisfied: datasets in c:\\users\\emely\\appdata\\local\\programs\\python\\python310\\lib\\site-packages (2.15.0)\n",
      "Requirement already satisfied: pyarrow-hotfix in c:\\users\\emely\\appdata\\local\\programs\\python\\python310\\lib\\site-packages (from datasets) (0.6)\n",
      "Requirement already satisfied: tqdm>=4.62.1 in c:\\users\\emely\\appdata\\local\\programs\\python\\python310\\lib\\site-packages (from datasets) (4.66.1)\n",
      "Requirement already satisfied: dill<0.3.8,>=0.3.0 in c:\\users\\emely\\appdata\\local\\programs\\python\\python310\\lib\\site-packages (from datasets) (0.3.7)\n",
      "Requirement already satisfied: multiprocess in c:\\users\\emely\\appdata\\local\\programs\\python\\python310\\lib\\site-packages (from datasets) (0.70.15)\n",
      "Requirement already satisfied: fsspec[http]<=2023.10.0,>=2023.1.0 in c:\\users\\emely\\appdata\\local\\programs\\python\\python310\\lib\\site-packages (from datasets) (2023.10.0)\n",
      "Collecting huggingface-hub>=0.18.0\n",
      "  Using cached huggingface_hub-0.19.4-py3-none-any.whl (311 kB)\n",
      "Requirement already satisfied: aiohttp in c:\\users\\emely\\appdata\\local\\programs\\python\\python310\\lib\\site-packages (from datasets) (3.9.1)\n",
      "Requirement already satisfied: pyyaml>=5.1 in c:\\users\\emely\\appdata\\local\\programs\\python\\python310\\lib\\site-packages (from datasets) (6.0.1)\n",
      "Requirement already satisfied: numpy>=1.17 in c:\\users\\emely\\appdata\\local\\programs\\python\\python310\\lib\\site-packages (from datasets) (1.26.0)\n",
      "Requirement already satisfied: pandas in c:\\users\\emely\\appdata\\local\\programs\\python\\python310\\lib\\site-packages (from datasets) (2.1.1)\n",
      "Requirement already satisfied: pyarrow>=8.0.0 in c:\\users\\emely\\appdata\\local\\programs\\python\\python310\\lib\\site-packages (from datasets) (14.0.1)\n",
      "Requirement already satisfied: xxhash in c:\\users\\emely\\appdata\\local\\programs\\python\\python310\\lib\\site-packages (from datasets) (3.4.1)\n",
      "Requirement already satisfied: packaging in c:\\users\\emely\\appdata\\roaming\\python\\python310\\site-packages (from datasets) (23.1)\n",
      "Requirement already satisfied: requests>=2.19.0 in c:\\users\\emely\\appdata\\local\\programs\\python\\python310\\lib\\site-packages (from datasets) (2.31.0)\n",
      "Requirement already satisfied: attrs>=17.3.0 in c:\\users\\emely\\appdata\\local\\programs\\python\\python310\\lib\\site-packages (from aiohttp->datasets) (23.1.0)\n",
      "Requirement already satisfied: yarl<2.0,>=1.0 in c:\\users\\emely\\appdata\\local\\programs\\python\\python310\\lib\\site-packages (from aiohttp->datasets) (1.9.3)\n",
      "Requirement already satisfied: aiosignal>=1.1.2 in c:\\users\\emely\\appdata\\local\\programs\\python\\python310\\lib\\site-packages (from aiohttp->datasets) (1.3.1)\n",
      "Requirement already satisfied: frozenlist>=1.1.1 in c:\\users\\emely\\appdata\\local\\programs\\python\\python310\\lib\\site-packages (from aiohttp->datasets) (1.4.0)\n",
      "Requirement already satisfied: async-timeout<5.0,>=4.0 in c:\\users\\emely\\appdata\\local\\programs\\python\\python310\\lib\\site-packages (from aiohttp->datasets) (4.0.3)\n",
      "Requirement already satisfied: multidict<7.0,>=4.5 in c:\\users\\emely\\appdata\\local\\programs\\python\\python310\\lib\\site-packages (from aiohttp->datasets) (6.0.4)\n",
      "Requirement already satisfied: filelock in c:\\users\\emely\\appdata\\local\\programs\\python\\python310\\lib\\site-packages (from huggingface-hub>=0.18.0->datasets) (3.9.0)\n",
      "Requirement already satisfied: typing-extensions>=3.7.4.3 in c:\\users\\emely\\appdata\\local\\programs\\python\\python310\\lib\\site-packages (from huggingface-hub>=0.18.0->datasets) (4.8.0)\n",
      "Requirement already satisfied: urllib3<3,>=1.21.1 in c:\\users\\emely\\appdata\\local\\programs\\python\\python310\\lib\\site-packages (from requests>=2.19.0->datasets) (2.0.5)\n",
      "Requirement already satisfied: idna<4,>=2.5 in c:\\users\\emely\\appdata\\local\\programs\\python\\python310\\lib\\site-packages (from requests>=2.19.0->datasets) (3.4)\n",
      "Requirement already satisfied: charset-normalizer<4,>=2 in c:\\users\\emely\\appdata\\local\\programs\\python\\python310\\lib\\site-packages (from requests>=2.19.0->datasets) (3.2.0)\n",
      "Requirement already satisfied: certifi>=2017.4.17 in c:\\users\\emely\\appdata\\local\\programs\\python\\python310\\lib\\site-packages (from requests>=2.19.0->datasets) (2023.7.22)\n",
      "Requirement already satisfied: colorama in c:\\users\\emely\\appdata\\roaming\\python\\python310\\site-packages (from tqdm>=4.62.1->datasets) (0.4.6)\n",
      "Requirement already satisfied: pytz>=2020.1 in c:\\users\\emely\\appdata\\local\\programs\\python\\python310\\lib\\site-packages (from pandas->datasets) (2023.3.post1)\n",
      "Requirement already satisfied: tzdata>=2022.1 in c:\\users\\emely\\appdata\\local\\programs\\python\\python310\\lib\\site-packages (from pandas->datasets) (2023.3)\n",
      "Requirement already satisfied: python-dateutil>=2.8.2 in c:\\users\\emely\\appdata\\roaming\\python\\python310\\site-packages (from pandas->datasets) (2.8.2)\n",
      "Requirement already satisfied: six>=1.5 in c:\\users\\emely\\appdata\\roaming\\python\\python310\\site-packages (from python-dateutil>=2.8.2->pandas->datasets) (1.16.0)\n",
      "Installing collected packages: huggingface-hub\n",
      "  Attempting uninstall: huggingface-hub\n",
      "    Found existing installation: huggingface-hub 0.17.3\n",
      "    Uninstalling huggingface-hub-0.17.3:\n",
      "      Successfully uninstalled huggingface-hub-0.17.3\n",
      "Successfully installed huggingface-hub-0.19.4\n"
     ]
    },
    {
     "name": "stderr",
     "output_type": "stream",
     "text": [
      "ERROR: pip's dependency resolver does not currently take into account all the packages that are installed. This behaviour is the source of the following dependency conflicts.\n",
      "tokenizers 0.14.1 requires huggingface_hub<0.18,>=0.16.4, but you have huggingface-hub 0.19.4 which is incompatible.\n",
      "WARNING: You are using pip version 21.2.4; however, version 23.3.1 is available.\n",
      "You should consider upgrading via the 'C:\\Users\\emely\\AppData\\Local\\Programs\\Python\\Python310\\python.exe -m pip install --upgrade pip' command.\n"
     ]
    },
    {
     "name": "stdout",
     "output_type": "stream",
     "text": [
      "Requirement already satisfied: torch in c:\\users\\emely\\appdata\\local\\programs\\python\\python310\\lib\\site-packages (2.1.0+cu121)\n",
      "Requirement already satisfied: torchvision in c:\\users\\emely\\appdata\\local\\programs\\python\\python310\\lib\\site-packages (0.16.0+cu121)\n",
      "Requirement already satisfied: torchaudio in c:\\users\\emely\\appdata\\local\\programs\\python\\python310\\lib\\site-packages (2.1.0+cu121)\n",
      "Requirement already satisfied: typing-extensions in c:\\users\\emely\\appdata\\local\\programs\\python\\python310\\lib\\site-packages (from torch) (4.8.0)\n",
      "Requirement already satisfied: sympy in c:\\users\\emely\\appdata\\local\\programs\\python\\python310\\lib\\site-packages (from torch) (1.12)\n",
      "Requirement already satisfied: networkx in c:\\users\\emely\\appdata\\local\\programs\\python\\python310\\lib\\site-packages (from torch) (3.0)\n",
      "Requirement already satisfied: jinja2 in c:\\users\\emely\\appdata\\local\\programs\\python\\python310\\lib\\site-packages (from torch) (3.1.2)\n",
      "Requirement already satisfied: filelock in c:\\users\\emely\\appdata\\local\\programs\\python\\python310\\lib\\site-packages (from torch) (3.9.0)\n",
      "Requirement already satisfied: fsspec in c:\\users\\emely\\appdata\\local\\programs\\python\\python310\\lib\\site-packages (from torch) (2023.10.0)\n",
      "Requirement already satisfied: numpy in c:\\users\\emely\\appdata\\local\\programs\\python\\python310\\lib\\site-packages (from torchvision) (1.26.0)\n",
      "Requirement already satisfied: pillow!=8.3.*,>=5.3.0 in c:\\users\\emely\\appdata\\local\\programs\\python\\python310\\lib\\site-packages (from torchvision) (10.0.1)\n",
      "Requirement already satisfied: requests in c:\\users\\emely\\appdata\\local\\programs\\python\\python310\\lib\\site-packages (from torchvision) (2.31.0)\n",
      "Requirement already satisfied: MarkupSafe>=2.0 in c:\\users\\emely\\appdata\\local\\programs\\python\\python310\\lib\\site-packages (from jinja2->torch) (2.1.3)\n",
      "Requirement already satisfied: idna<4,>=2.5 in c:\\users\\emely\\appdata\\local\\programs\\python\\python310\\lib\\site-packages (from requests->torchvision) (3.4)\n",
      "Requirement already satisfied: charset-normalizer<4,>=2 in c:\\users\\emely\\appdata\\local\\programs\\python\\python310\\lib\\site-packages (from requests->torchvision) (3.2.0)\n",
      "Requirement already satisfied: urllib3<3,>=1.21.1 in c:\\users\\emely\\appdata\\local\\programs\\python\\python310\\lib\\site-packages (from requests->torchvision) (2.0.5)\n",
      "Requirement already satisfied: certifi>=2017.4.17 in c:\\users\\emely\\appdata\\local\\programs\\python\\python310\\lib\\site-packages (from requests->torchvision) (2023.7.22)\n",
      "Requirement already satisfied: mpmath>=0.19 in c:\\users\\emely\\appdata\\local\\programs\\python\\python310\\lib\\site-packages (from sympy->torch) (1.3.0)\n"
     ]
    },
    {
     "name": "stderr",
     "output_type": "stream",
     "text": [
      "WARNING: You are using pip version 21.2.4; however, version 23.3.1 is available.\n",
      "You should consider upgrading via the 'C:\\Users\\emely\\AppData\\Local\\Programs\\Python\\Python310\\python.exe -m pip install --upgrade pip' command.\n"
     ]
    },
    {
     "name": "stdout",
     "output_type": "stream",
     "text": [
      "Requirement already satisfied: transformers in c:\\users\\emely\\appdata\\local\\programs\\python\\python310\\lib\\site-packages (4.35.2)\n",
      "Requirement already satisfied: numpy>=1.17 in c:\\users\\emely\\appdata\\local\\programs\\python\\python310\\lib\\site-packages (from transformers) (1.26.0)\n",
      "Requirement already satisfied: regex!=2019.12.17 in c:\\users\\emely\\appdata\\local\\programs\\python\\python310\\lib\\site-packages (from transformers) (2023.8.8)\n",
      "Requirement already satisfied: tqdm>=4.27 in c:\\users\\emely\\appdata\\local\\programs\\python\\python310\\lib\\site-packages (from transformers) (4.66.1)\n",
      "Requirement already satisfied: packaging>=20.0 in c:\\users\\emely\\appdata\\roaming\\python\\python310\\site-packages (from transformers) (23.1)\n",
      "Requirement already satisfied: safetensors>=0.3.1 in c:\\users\\emely\\appdata\\local\\programs\\python\\python310\\lib\\site-packages (from transformers) (0.4.0)\n",
      "Requirement already satisfied: filelock in c:\\users\\emely\\appdata\\local\\programs\\python\\python310\\lib\\site-packages (from transformers) (3.9.0)\n",
      "Requirement already satisfied: huggingface-hub<1.0,>=0.16.4 in c:\\users\\emely\\appdata\\local\\programs\\python\\python310\\lib\\site-packages (from transformers) (0.19.4)\n",
      "Requirement already satisfied: pyyaml>=5.1 in c:\\users\\emely\\appdata\\local\\programs\\python\\python310\\lib\\site-packages (from transformers) (6.0.1)\n",
      "Requirement already satisfied: tokenizers<0.19,>=0.14 in c:\\users\\emely\\appdata\\local\\programs\\python\\python310\\lib\\site-packages (from transformers) (0.14.1)\n",
      "Requirement already satisfied: requests in c:\\users\\emely\\appdata\\local\\programs\\python\\python310\\lib\\site-packages (from transformers) (2.31.0)\n",
      "Requirement already satisfied: typing-extensions>=3.7.4.3 in c:\\users\\emely\\appdata\\local\\programs\\python\\python310\\lib\\site-packages (from huggingface-hub<1.0,>=0.16.4->transformers) (4.8.0)\n",
      "Requirement already satisfied: fsspec>=2023.5.0 in c:\\users\\emely\\appdata\\local\\programs\\python\\python310\\lib\\site-packages (from huggingface-hub<1.0,>=0.16.4->transformers) (2023.10.0)\n",
      "Collecting huggingface-hub<1.0,>=0.16.4\n",
      "  Using cached huggingface_hub-0.17.3-py3-none-any.whl (295 kB)\n",
      "Requirement already satisfied: colorama in c:\\users\\emely\\appdata\\roaming\\python\\python310\\site-packages (from tqdm>=4.27->transformers) (0.4.6)\n",
      "Requirement already satisfied: certifi>=2017.4.17 in c:\\users\\emely\\appdata\\local\\programs\\python\\python310\\lib\\site-packages (from requests->transformers) (2023.7.22)\n",
      "Requirement already satisfied: idna<4,>=2.5 in c:\\users\\emely\\appdata\\local\\programs\\python\\python310\\lib\\site-packages (from requests->transformers) (3.4)\n",
      "Requirement already satisfied: urllib3<3,>=1.21.1 in c:\\users\\emely\\appdata\\local\\programs\\python\\python310\\lib\\site-packages (from requests->transformers) (2.0.5)\n",
      "Requirement already satisfied: charset-normalizer<4,>=2 in c:\\users\\emely\\appdata\\local\\programs\\python\\python310\\lib\\site-packages (from requests->transformers) (3.2.0)\n",
      "Installing collected packages: huggingface-hub\n",
      "  Attempting uninstall: huggingface-hub\n",
      "    Found existing installation: huggingface-hub 0.19.4\n",
      "    Uninstalling huggingface-hub-0.19.4:\n",
      "      Successfully uninstalled huggingface-hub-0.19.4\n",
      "Successfully installed huggingface-hub-0.17.3\n"
     ]
    },
    {
     "name": "stderr",
     "output_type": "stream",
     "text": [
      "ERROR: pip's dependency resolver does not currently take into account all the packages that are installed. This behaviour is the source of the following dependency conflicts.\n",
      "datasets 2.15.0 requires huggingface-hub>=0.18.0, but you have huggingface-hub 0.17.3 which is incompatible.\n",
      "WARNING: You are using pip version 21.2.4; however, version 23.3.1 is available.\n",
      "You should consider upgrading via the 'C:\\Users\\emely\\AppData\\Local\\Programs\\Python\\Python310\\python.exe -m pip install --upgrade pip' command.\n"
     ]
    },
    {
     "name": "stdout",
     "output_type": "stream",
     "text": [
      "Requirement already satisfied: rouge-score in c:\\users\\emely\\appdata\\local\\programs\\python\\python310\\lib\\site-packages (0.1.2)\n",
      "Requirement already satisfied: nltk in c:\\users\\emely\\appdata\\local\\programs\\python\\python310\\lib\\site-packages (3.8.1)\n",
      "Requirement already satisfied: numpy in c:\\users\\emely\\appdata\\local\\programs\\python\\python310\\lib\\site-packages (from rouge-score) (1.26.0)\n",
      "Requirement already satisfied: six>=1.14.0 in c:\\users\\emely\\appdata\\roaming\\python\\python310\\site-packages (from rouge-score) (1.16.0)\n",
      "Requirement already satisfied: absl-py in c:\\users\\emely\\appdata\\local\\programs\\python\\python310\\lib\\site-packages (from rouge-score) (2.0.0)\n",
      "Requirement already satisfied: regex>=2021.8.3 in c:\\users\\emely\\appdata\\local\\programs\\python\\python310\\lib\\site-packages (from nltk) (2023.8.8)\n",
      "Requirement already satisfied: tqdm in c:\\users\\emely\\appdata\\local\\programs\\python\\python310\\lib\\site-packages (from nltk) (4.66.1)\n",
      "Requirement already satisfied: click in c:\\users\\emely\\appdata\\local\\programs\\python\\python310\\lib\\site-packages (from nltk) (8.1.7)\n",
      "Requirement already satisfied: joblib in c:\\users\\emely\\appdata\\local\\programs\\python\\python310\\lib\\site-packages (from nltk) (1.3.2)\n",
      "Requirement already satisfied: colorama in c:\\users\\emely\\appdata\\roaming\\python\\python310\\site-packages (from click->nltk) (0.4.6)\n"
     ]
    },
    {
     "name": "stderr",
     "output_type": "stream",
     "text": [
      "WARNING: You are using pip version 21.2.4; however, version 23.3.1 is available.\n",
      "You should consider upgrading via the 'C:\\Users\\emely\\AppData\\Local\\Programs\\Python\\Python310\\python.exe -m pip install --upgrade pip' command.\n"
     ]
    },
    {
     "name": "stdout",
     "output_type": "stream",
     "text": [
      "Requirement already satisfied: sentencepiece in c:\\users\\emely\\appdata\\local\\programs\\python\\python310\\lib\\site-packages (0.1.99)\n"
     ]
    },
    {
     "name": "stderr",
     "output_type": "stream",
     "text": [
      "WARNING: You are using pip version 21.2.4; however, version 23.3.1 is available.\n",
      "You should consider upgrading via the 'C:\\Users\\emely\\AppData\\Local\\Programs\\Python\\Python310\\python.exe -m pip install --upgrade pip' command.\n"
     ]
    },
    {
     "name": "stdout",
     "output_type": "stream",
     "text": [
      "Requirement already satisfied: evaluate in c:\\users\\emely\\appdata\\local\\programs\\python\\python310\\lib\\site-packages (0.4.1)\n",
      "Requirement already satisfied: tqdm>=4.62.1 in c:\\users\\emely\\appdata\\local\\programs\\python\\python310\\lib\\site-packages (from evaluate) (4.66.1)\n",
      "Requirement already satisfied: datasets>=2.0.0 in c:\\users\\emely\\appdata\\local\\programs\\python\\python310\\lib\\site-packages (from evaluate) (2.15.0)\n",
      "Requirement already satisfied: responses<0.19 in c:\\users\\emely\\appdata\\local\\programs\\python\\python310\\lib\\site-packages (from evaluate) (0.18.0)\n",
      "Requirement already satisfied: huggingface-hub>=0.7.0 in c:\\users\\emely\\appdata\\local\\programs\\python\\python310\\lib\\site-packages (from evaluate) (0.17.3)\n",
      "Requirement already satisfied: fsspec[http]>=2021.05.0 in c:\\users\\emely\\appdata\\local\\programs\\python\\python310\\lib\\site-packages (from evaluate) (2023.10.0)\n",
      "Requirement already satisfied: numpy>=1.17 in c:\\users\\emely\\appdata\\local\\programs\\python\\python310\\lib\\site-packages (from evaluate) (1.26.0)\n",
      "Requirement already satisfied: dill in c:\\users\\emely\\appdata\\local\\programs\\python\\python310\\lib\\site-packages (from evaluate) (0.3.7)\n",
      "Requirement already satisfied: requests>=2.19.0 in c:\\users\\emely\\appdata\\local\\programs\\python\\python310\\lib\\site-packages (from evaluate) (2.31.0)\n",
      "Requirement already satisfied: packaging in c:\\users\\emely\\appdata\\roaming\\python\\python310\\site-packages (from evaluate) (23.1)\n",
      "Requirement already satisfied: pandas in c:\\users\\emely\\appdata\\local\\programs\\python\\python310\\lib\\site-packages (from evaluate) (2.1.1)\n",
      "Requirement already satisfied: xxhash in c:\\users\\emely\\appdata\\local\\programs\\python\\python310\\lib\\site-packages (from evaluate) (3.4.1)\n",
      "Requirement already satisfied: multiprocess in c:\\users\\emely\\appdata\\local\\programs\\python\\python310\\lib\\site-packages (from evaluate) (0.70.15)\n",
      "Collecting huggingface-hub>=0.7.0\n",
      "  Using cached huggingface_hub-0.19.4-py3-none-any.whl (311 kB)\n",
      "Requirement already satisfied: pyarrow>=8.0.0 in c:\\users\\emely\\appdata\\local\\programs\\python\\python310\\lib\\site-packages (from datasets>=2.0.0->evaluate) (14.0.1)\n",
      "Requirement already satisfied: aiohttp in c:\\users\\emely\\appdata\\local\\programs\\python\\python310\\lib\\site-packages (from datasets>=2.0.0->evaluate) (3.9.1)\n",
      "Requirement already satisfied: pyyaml>=5.1 in c:\\users\\emely\\appdata\\local\\programs\\python\\python310\\lib\\site-packages (from datasets>=2.0.0->evaluate) (6.0.1)\n",
      "Requirement already satisfied: pyarrow-hotfix in c:\\users\\emely\\appdata\\local\\programs\\python\\python310\\lib\\site-packages (from datasets>=2.0.0->evaluate) (0.6)\n",
      "Requirement already satisfied: multidict<7.0,>=4.5 in c:\\users\\emely\\appdata\\local\\programs\\python\\python310\\lib\\site-packages (from aiohttp->datasets>=2.0.0->evaluate) (6.0.4)\n",
      "Requirement already satisfied: attrs>=17.3.0 in c:\\users\\emely\\appdata\\local\\programs\\python\\python310\\lib\\site-packages (from aiohttp->datasets>=2.0.0->evaluate) (23.1.0)\n",
      "Requirement already satisfied: async-timeout<5.0,>=4.0 in c:\\users\\emely\\appdata\\local\\programs\\python\\python310\\lib\\site-packages (from aiohttp->datasets>=2.0.0->evaluate) (4.0.3)\n",
      "Requirement already satisfied: frozenlist>=1.1.1 in c:\\users\\emely\\appdata\\local\\programs\\python\\python310\\lib\\site-packages (from aiohttp->datasets>=2.0.0->evaluate) (1.4.0)\n",
      "Requirement already satisfied: yarl<2.0,>=1.0 in c:\\users\\emely\\appdata\\local\\programs\\python\\python310\\lib\\site-packages (from aiohttp->datasets>=2.0.0->evaluate) (1.9.3)\n",
      "Requirement already satisfied: aiosignal>=1.1.2 in c:\\users\\emely\\appdata\\local\\programs\\python\\python310\\lib\\site-packages (from aiohttp->datasets>=2.0.0->evaluate) (1.3.1)\n",
      "Requirement already satisfied: filelock in c:\\users\\emely\\appdata\\local\\programs\\python\\python310\\lib\\site-packages (from huggingface-hub>=0.7.0->evaluate) (3.9.0)\n",
      "Requirement already satisfied: typing-extensions>=3.7.4.3 in c:\\users\\emely\\appdata\\local\\programs\\python\\python310\\lib\\site-packages (from huggingface-hub>=0.7.0->evaluate) (4.8.0)\n",
      "Requirement already satisfied: idna<4,>=2.5 in c:\\users\\emely\\appdata\\local\\programs\\python\\python310\\lib\\site-packages (from requests>=2.19.0->evaluate) (3.4)\n",
      "Requirement already satisfied: certifi>=2017.4.17 in c:\\users\\emely\\appdata\\local\\programs\\python\\python310\\lib\\site-packages (from requests>=2.19.0->evaluate) (2023.7.22)\n",
      "Requirement already satisfied: charset-normalizer<4,>=2 in c:\\users\\emely\\appdata\\local\\programs\\python\\python310\\lib\\site-packages (from requests>=2.19.0->evaluate) (3.2.0)\n",
      "Requirement already satisfied: urllib3<3,>=1.21.1 in c:\\users\\emely\\appdata\\local\\programs\\python\\python310\\lib\\site-packages (from requests>=2.19.0->evaluate) (2.0.5)\n",
      "Requirement already satisfied: colorama in c:\\users\\emely\\appdata\\roaming\\python\\python310\\site-packages (from tqdm>=4.62.1->evaluate) (0.4.6)\n",
      "Requirement already satisfied: python-dateutil>=2.8.2 in c:\\users\\emely\\appdata\\roaming\\python\\python310\\site-packages (from pandas->evaluate) (2.8.2)\n",
      "Requirement already satisfied: tzdata>=2022.1 in c:\\users\\emely\\appdata\\local\\programs\\python\\python310\\lib\\site-packages (from pandas->evaluate) (2023.3)\n",
      "Requirement already satisfied: pytz>=2020.1 in c:\\users\\emely\\appdata\\local\\programs\\python\\python310\\lib\\site-packages (from pandas->evaluate) (2023.3.post1)\n",
      "Requirement already satisfied: six>=1.5 in c:\\users\\emely\\appdata\\roaming\\python\\python310\\site-packages (from python-dateutil>=2.8.2->pandas->evaluate) (1.16.0)\n",
      "Installing collected packages: huggingface-hub\n",
      "  Attempting uninstall: huggingface-hub\n",
      "    Found existing installation: huggingface-hub 0.17.3\n",
      "    Uninstalling huggingface-hub-0.17.3:\n",
      "      Successfully uninstalled huggingface-hub-0.17.3\n",
      "Successfully installed huggingface-hub-0.19.4\n"
     ]
    },
    {
     "name": "stderr",
     "output_type": "stream",
     "text": [
      "ERROR: pip's dependency resolver does not currently take into account all the packages that are installed. This behaviour is the source of the following dependency conflicts.\n",
      "tokenizers 0.14.1 requires huggingface_hub<0.18,>=0.16.4, but you have huggingface-hub 0.19.4 which is incompatible.\n",
      "WARNING: You are using pip version 21.2.4; however, version 23.3.1 is available.\n",
      "You should consider upgrading via the 'C:\\Users\\emely\\AppData\\Local\\Programs\\Python\\Python310\\python.exe -m pip install --upgrade pip' command.\n"
     ]
    }
   ],
   "source": [
    "!pip install datasets\n",
    "!pip install torch torchvision torchaudio\n",
    "!pip install transformers\n",
    "!pip install rouge-score nltk\n",
    "!pip install sentencepiece\n",
    "!pip install evaluate"
   ]
  },
  {
   "cell_type": "code",
   "execution_count": 2,
   "metadata": {},
   "outputs": [
    {
     "name": "stdout",
     "output_type": "stream",
     "text": [
      "Requirement already satisfied: transformers[torch] in c:\\users\\emely\\appdata\\local\\programs\\python\\python310\\lib\\site-packages (4.35.2)\n",
      "Requirement already satisfied: tokenizers<0.19,>=0.14 in c:\\users\\emely\\appdata\\local\\programs\\python\\python310\\lib\\site-packages (from transformers[torch]) (0.14.1)\n",
      "Requirement already satisfied: regex!=2019.12.17 in c:\\users\\emely\\appdata\\local\\programs\\python\\python310\\lib\\site-packages (from transformers[torch]) (2023.8.8)\n",
      "Requirement already satisfied: safetensors>=0.3.1 in c:\\users\\emely\\appdata\\local\\programs\\python\\python310\\lib\\site-packages (from transformers[torch]) (0.4.0)\n",
      "Requirement already satisfied: filelock in c:\\users\\emely\\appdata\\local\\programs\\python\\python310\\lib\\site-packages (from transformers[torch]) (3.9.0)\n",
      "Requirement already satisfied: pyyaml>=5.1 in c:\\users\\emely\\appdata\\local\\programs\\python\\python310\\lib\\site-packages (from transformers[torch]) (6.0.1)\n",
      "Requirement already satisfied: packaging>=20.0 in c:\\users\\emely\\appdata\\roaming\\python\\python310\\site-packages (from transformers[torch]) (23.1)\n",
      "Requirement already satisfied: tqdm>=4.27 in c:\\users\\emely\\appdata\\local\\programs\\python\\python310\\lib\\site-packages (from transformers[torch]) (4.66.1)\n",
      "Requirement already satisfied: numpy>=1.17 in c:\\users\\emely\\appdata\\local\\programs\\python\\python310\\lib\\site-packages (from transformers[torch]) (1.26.0)\n",
      "Requirement already satisfied: requests in c:\\users\\emely\\appdata\\local\\programs\\python\\python310\\lib\\site-packages (from transformers[torch]) (2.31.0)\n",
      "Requirement already satisfied: huggingface-hub<1.0,>=0.16.4 in c:\\users\\emely\\appdata\\local\\programs\\python\\python310\\lib\\site-packages (from transformers[torch]) (0.19.4)\n",
      "Requirement already satisfied: accelerate>=0.20.3 in c:\\users\\emely\\appdata\\local\\programs\\python\\python310\\lib\\site-packages (from transformers[torch]) (0.24.1)\n",
      "Requirement already satisfied: torch!=1.12.0,>=1.10 in c:\\users\\emely\\appdata\\local\\programs\\python\\python310\\lib\\site-packages (from transformers[torch]) (2.1.0+cu121)\n",
      "Requirement already satisfied: psutil in c:\\users\\emely\\appdata\\roaming\\python\\python310\\site-packages (from accelerate>=0.20.3->transformers[torch]) (5.9.5)\n",
      "Requirement already satisfied: typing-extensions>=3.7.4.3 in c:\\users\\emely\\appdata\\local\\programs\\python\\python310\\lib\\site-packages (from huggingface-hub<1.0,>=0.16.4->transformers[torch]) (4.8.0)\n",
      "Requirement already satisfied: fsspec>=2023.5.0 in c:\\users\\emely\\appdata\\local\\programs\\python\\python310\\lib\\site-packages (from huggingface-hub<1.0,>=0.16.4->transformers[torch]) (2023.10.0)\n",
      "Collecting huggingface-hub<1.0,>=0.16.4\n",
      "  Using cached huggingface_hub-0.17.3-py3-none-any.whl (295 kB)\n",
      "Requirement already satisfied: sympy in c:\\users\\emely\\appdata\\local\\programs\\python\\python310\\lib\\site-packages (from torch!=1.12.0,>=1.10->transformers[torch]) (1.12)\n",
      "Requirement already satisfied: jinja2 in c:\\users\\emely\\appdata\\local\\programs\\python\\python310\\lib\\site-packages (from torch!=1.12.0,>=1.10->transformers[torch]) (3.1.2)\n",
      "Requirement already satisfied: networkx in c:\\users\\emely\\appdata\\local\\programs\\python\\python310\\lib\\site-packages (from torch!=1.12.0,>=1.10->transformers[torch]) (3.0)\n",
      "Requirement already satisfied: colorama in c:\\users\\emely\\appdata\\roaming\\python\\python310\\site-packages (from tqdm>=4.27->transformers[torch]) (0.4.6)\n",
      "Requirement already satisfied: MarkupSafe>=2.0 in c:\\users\\emely\\appdata\\local\\programs\\python\\python310\\lib\\site-packages (from jinja2->torch!=1.12.0,>=1.10->transformers[torch]) (2.1.3)\n",
      "Requirement already satisfied: idna<4,>=2.5 in c:\\users\\emely\\appdata\\local\\programs\\python\\python310\\lib\\site-packages (from requests->transformers[torch]) (3.4)\n",
      "Requirement already satisfied: charset-normalizer<4,>=2 in c:\\users\\emely\\appdata\\local\\programs\\python\\python310\\lib\\site-packages (from requests->transformers[torch]) (3.2.0)\n",
      "Requirement already satisfied: certifi>=2017.4.17 in c:\\users\\emely\\appdata\\local\\programs\\python\\python310\\lib\\site-packages (from requests->transformers[torch]) (2023.7.22)\n",
      "Requirement already satisfied: urllib3<3,>=1.21.1 in c:\\users\\emely\\appdata\\local\\programs\\python\\python310\\lib\\site-packages (from requests->transformers[torch]) (2.0.5)\n",
      "Requirement already satisfied: mpmath>=0.19 in c:\\users\\emely\\appdata\\local\\programs\\python\\python310\\lib\\site-packages (from sympy->torch!=1.12.0,>=1.10->transformers[torch]) (1.3.0)\n",
      "Installing collected packages: huggingface-hub\n",
      "  Attempting uninstall: huggingface-hub\n",
      "    Found existing installation: huggingface-hub 0.19.4\n",
      "    Uninstalling huggingface-hub-0.19.4:\n",
      "      Successfully uninstalled huggingface-hub-0.19.4\n",
      "Successfully installed huggingface-hub-0.17.3\n"
     ]
    },
    {
     "name": "stderr",
     "output_type": "stream",
     "text": [
      "ERROR: pip's dependency resolver does not currently take into account all the packages that are installed. This behaviour is the source of the following dependency conflicts.\n",
      "datasets 2.15.0 requires huggingface-hub>=0.18.0, but you have huggingface-hub 0.17.3 which is incompatible.\n",
      "WARNING: You are using pip version 21.2.4; however, version 23.3.1 is available.\n",
      "You should consider upgrading via the 'C:\\Users\\emely\\AppData\\Local\\Programs\\Python\\Python310\\python.exe -m pip install --upgrade pip' command.\n"
     ]
    }
   ],
   "source": [
    "!pip install transformers[torch] -U"
   ]
  },
  {
   "cell_type": "markdown",
   "metadata": {},
   "source": [
    "# Импорты"
   ]
  },
  {
   "cell_type": "code",
   "execution_count": 3,
   "metadata": {},
   "outputs": [
    {
     "name": "stderr",
     "output_type": "stream",
     "text": [
      "[nltk_data] Downloading package punkt to\n",
      "[nltk_data]     C:\\Users\\emely\\AppData\\Roaming\\nltk_data...\n",
      "[nltk_data]   Package punkt is already up-to-date!\n"
     ]
    }
   ],
   "source": [
    "import nltk\n",
    "nltk.download('punkt')\n",
    "from datasets import load_dataset, load_metric\n",
    "from transformers import (\n",
    "    DataCollatorForSeq2Seq,\n",
    "    MT5ForConditionalGeneration,\n",
    "    MT5Tokenizer,\n",
    "    pipeline,\n",
    "    Seq2SeqTrainingArguments,\n",
    "    Seq2SeqTrainer,\n",
    ") \n",
    "import evaluate\n",
    "import numpy as np\n",
    "import datasets"
   ]
  },
  {
   "cell_type": "markdown",
   "metadata": {},
   "source": [
    "# Загрузка предварительно обученного токенизатора и модели (MT5)"
   ]
  },
  {
   "cell_type": "code",
   "execution_count": 4,
   "metadata": {},
   "outputs": [
    {
     "name": "stderr",
     "output_type": "stream",
     "text": [
      "You are using the default legacy behaviour of the <class 'transformers.models.t5.tokenization_t5.T5Tokenizer'>. This is expected, and simply means that the `legacy` (previous) behavior will be used so nothing changes for you. If you want to use the new behaviour, set `legacy=False`. This should only be set if you understand what it means, and thouroughly read the reason why this was added as explained in https://github.com/huggingface/transformers/pull/24565\n"
     ]
    }
   ],
   "source": [
    "tokenizer = MT5Tokenizer.from_pretrained(\"google/mt5-small\")\n",
    "model = MT5ForConditionalGeneration.from_pretrained('google/mt5-small')\n"
   ]
  },
  {
   "cell_type": "markdown",
   "metadata": {},
   "source": [
    "# Параметры"
   ]
  },
  {
   "cell_type": "code",
   "execution_count": 10,
   "metadata": {},
   "outputs": [],
   "source": [
    "# Установка максимального количества токенов для исходных и целевых последовательностей\n",
    "max_target_tokens_count = 20\n",
    "max_source_tokens_count = 1024\n",
    "\n",
    "# Загрузка метрик Rouge и Bleu для оценки\n",
    "rouge = load_metric(\"rouge\")\n",
    "bleu = evaluate.load(\"bleu\")"
   ]
  },
  {
   "cell_type": "markdown",
   "metadata": {},
   "source": [
    "# Функции"
   ]
  },
  {
   "cell_type": "code",
   "execution_count": 11,
   "metadata": {},
   "outputs": [],
   "source": [
    "# Определение функции предобработки для датасета\n",
    "def preprocess_function(examples):\n",
    "    inputs = examples[\"text\"]\n",
    "    model_inputs = tokenizer(inputs, max_length=max_source_tokens_count, truncation=True)\n",
    "    labels = tokenizer(text_target=examples[\"summary\"], max_length=max_target_tokens_count, truncation=True)\n",
    "\n",
    "    model_inputs[\"labels\"] = labels[\"input_ids\"]\n",
    "    return model_inputs\n",
    "\n",
    "# Определение функции для вычисления метрик во время оценки\n",
    "def compute_metrics(eval_pred):\n",
    "    predictions, labels = eval_pred\n",
    "    decoded_preds = tokenizer.batch_decode(predictions, skip_special_tokens=True)\n",
    "    labels = np.where(labels != -100, labels, tokenizer.pad_token_id)\n",
    "    decoded_labels = tokenizer.batch_decode(labels, skip_special_tokens=True)\n",
    "    \n",
    "    decoded_preds = [\"\\n\".join(nltk.sent_tokenize(pred.strip())) for pred in decoded_preds]\n",
    "    decoded_labels = [\"\\n\".join(nltk.sent_tokenize(label.strip())) for label in decoded_labels]\n",
    "    \n",
    "    result = {}\n",
    "    result_rouge = rouge.compute(predictions=decoded_preds, references=decoded_labels)\n",
    "    result.update({key: value.mid.fmeasure * 100 for key, value in result_rouge.items()})\n",
    "    result_bleu = bleu.compute(predictions=decoded_preds, references=decoded_labels)\n",
    "    result[\"bleu\"] = result_bleu[\"bleu\"] * 100\n",
    "    prediction_lens = [np.count_nonzero(pred != tokenizer.pad_token_id) for pred in predictions]\n",
    "    result[\"gen_len\"] = np.mean(prediction_lens)\n",
    "    result[\"char_len\"] = np.mean([len(t) for t in decoded_preds])\n",
    "    return {k: round(v, 4) for k, v in result.items()}"
   ]
  },
  {
   "cell_type": "markdown",
   "metadata": {},
   "source": []
  },
  {
   "cell_type": "code",
   "execution_count": 12,
   "metadata": {},
   "outputs": [],
   "source": [
    "# Загрузка датасета Gazeta и применение функции предобработки\n",
    "dataset = load_dataset('IlyaGusev/gazeta', revision=\"v2.0\")\n",
    "tokenized_dataset = dataset.map(preprocess_function, batched=True)\n",
    "\n",
    "# Инициализация коллатора данных для задачи Seq2Seq\n",
    "data_collator = DataCollatorForSeq2Seq(tokenizer=tokenizer, model=model)"
   ]
  },
  {
   "cell_type": "markdown",
   "metadata": {},
   "source": [
    "# Моделька"
   ]
  },
  {
   "cell_type": "code",
   "execution_count": 12,
   "metadata": {},
   "outputs": [
    {
     "name": "stdout",
     "output_type": "stream",
     "text": [
      "Found existing installation: accelerate 0.20.1\n",
      "Uninstalling accelerate-0.20.1:\n",
      "  Successfully uninstalled accelerate-0.20.1\n",
      "Found existing installation: transformers 4.35.2\n",
      "Uninstalling transformers-4.35.2:\n",
      "  Successfully uninstalled transformers-4.35.2\n",
      "Collecting accelerate==0.20.1\n",
      "  Using cached accelerate-0.20.1-py3-none-any.whl (227 kB)\n",
      "Requirement already satisfied: psutil in c:\\users\\emely\\appdata\\roaming\\python\\python310\\site-packages (from accelerate==0.20.1) (5.9.5)\n",
      "Requirement already satisfied: torch>=1.6.0 in c:\\users\\emely\\appdata\\local\\programs\\python\\python310\\lib\\site-packages (from accelerate==0.20.1) (2.1.0+cu121)\n",
      "Requirement already satisfied: numpy>=1.17 in c:\\users\\emely\\appdata\\local\\programs\\python\\python310\\lib\\site-packages (from accelerate==0.20.1) (1.26.0)\n",
      "Requirement already satisfied: packaging>=20.0 in c:\\users\\emely\\appdata\\roaming\\python\\python310\\site-packages (from accelerate==0.20.1) (23.1)\n",
      "Requirement already satisfied: pyyaml in c:\\users\\emely\\appdata\\local\\programs\\python\\python310\\lib\\site-packages (from accelerate==0.20.1) (6.0.1)\n",
      "Requirement already satisfied: networkx in c:\\users\\emely\\appdata\\local\\programs\\python\\python310\\lib\\site-packages (from torch>=1.6.0->accelerate==0.20.1) (3.0)\n",
      "Requirement already satisfied: sympy in c:\\users\\emely\\appdata\\local\\programs\\python\\python310\\lib\\site-packages (from torch>=1.6.0->accelerate==0.20.1) (1.12)\n",
      "Requirement already satisfied: filelock in c:\\users\\emely\\appdata\\local\\programs\\python\\python310\\lib\\site-packages (from torch>=1.6.0->accelerate==0.20.1) (3.9.0)\n",
      "Requirement already satisfied: jinja2 in c:\\users\\emely\\appdata\\local\\programs\\python\\python310\\lib\\site-packages (from torch>=1.6.0->accelerate==0.20.1) (3.1.2)\n",
      "Requirement already satisfied: fsspec in c:\\users\\emely\\appdata\\local\\programs\\python\\python310\\lib\\site-packages (from torch>=1.6.0->accelerate==0.20.1) (2023.10.0)\n",
      "Requirement already satisfied: typing-extensions in c:\\users\\emely\\appdata\\local\\programs\\python\\python310\\lib\\site-packages (from torch>=1.6.0->accelerate==0.20.1) (4.8.0)\n",
      "Requirement already satisfied: MarkupSafe>=2.0 in c:\\users\\emely\\appdata\\local\\programs\\python\\python310\\lib\\site-packages (from jinja2->torch>=1.6.0->accelerate==0.20.1) (2.1.3)\n",
      "Requirement already satisfied: mpmath>=0.19 in c:\\users\\emely\\appdata\\local\\programs\\python\\python310\\lib\\site-packages (from sympy->torch>=1.6.0->accelerate==0.20.1) (1.3.0)\n",
      "Installing collected packages: accelerate\n",
      "Successfully installed accelerate-0.20.1\n"
     ]
    },
    {
     "name": "stderr",
     "output_type": "stream",
     "text": [
      "WARNING: You are using pip version 21.2.4; however, version 23.3.1 is available.\n",
      "You should consider upgrading via the 'C:\\Users\\emely\\AppData\\Local\\Programs\\Python\\Python310\\python.exe -m pip install --upgrade pip' command.\n"
     ]
    },
    {
     "name": "stdout",
     "output_type": "stream",
     "text": [
      "Collecting transformers[torch]\n",
      "  Using cached transformers-4.35.2-py3-none-any.whl (7.9 MB)\n",
      "Requirement already satisfied: filelock in c:\\users\\emely\\appdata\\local\\programs\\python\\python310\\lib\\site-packages (from transformers[torch]) (3.9.0)\n",
      "Requirement already satisfied: huggingface-hub<1.0,>=0.16.4 in c:\\users\\emely\\appdata\\local\\programs\\python\\python310\\lib\\site-packages (from transformers[torch]) (0.17.3)\n",
      "Requirement already satisfied: tokenizers<0.19,>=0.14 in c:\\users\\emely\\appdata\\local\\programs\\python\\python310\\lib\\site-packages (from transformers[torch]) (0.14.1)\n",
      "Requirement already satisfied: pyyaml>=5.1 in c:\\users\\emely\\appdata\\local\\programs\\python\\python310\\lib\\site-packages (from transformers[torch]) (6.0.1)\n",
      "Requirement already satisfied: regex!=2019.12.17 in c:\\users\\emely\\appdata\\local\\programs\\python\\python310\\lib\\site-packages (from transformers[torch]) (2023.8.8)\n",
      "Requirement already satisfied: packaging>=20.0 in c:\\users\\emely\\appdata\\roaming\\python\\python310\\site-packages (from transformers[torch]) (23.1)\n",
      "Requirement already satisfied: requests in c:\\users\\emely\\appdata\\local\\programs\\python\\python310\\lib\\site-packages (from transformers[torch]) (2.31.0)\n",
      "Requirement already satisfied: safetensors>=0.3.1 in c:\\users\\emely\\appdata\\local\\programs\\python\\python310\\lib\\site-packages (from transformers[torch]) (0.4.0)\n",
      "Requirement already satisfied: tqdm>=4.27 in c:\\users\\emely\\appdata\\local\\programs\\python\\python310\\lib\\site-packages (from transformers[torch]) (4.66.1)\n",
      "Requirement already satisfied: numpy>=1.17 in c:\\users\\emely\\appdata\\local\\programs\\python\\python310\\lib\\site-packages (from transformers[torch]) (1.26.0)\n",
      "Collecting accelerate>=0.20.3\n",
      "  Using cached accelerate-0.24.1-py3-none-any.whl (261 kB)\n",
      "Requirement already satisfied: torch!=1.12.0,>=1.10 in c:\\users\\emely\\appdata\\local\\programs\\python\\python310\\lib\\site-packages (from transformers[torch]) (2.1.0+cu121)\n",
      "Requirement already satisfied: psutil in c:\\users\\emely\\appdata\\roaming\\python\\python310\\site-packages (from accelerate>=0.20.3->transformers[torch]) (5.9.5)\n",
      "Requirement already satisfied: typing-extensions>=3.7.4.3 in c:\\users\\emely\\appdata\\local\\programs\\python\\python310\\lib\\site-packages (from huggingface-hub<1.0,>=0.16.4->transformers[torch]) (4.8.0)\n",
      "Requirement already satisfied: fsspec in c:\\users\\emely\\appdata\\local\\programs\\python\\python310\\lib\\site-packages (from huggingface-hub<1.0,>=0.16.4->transformers[torch]) (2023.10.0)\n",
      "Requirement already satisfied: networkx in c:\\users\\emely\\appdata\\local\\programs\\python\\python310\\lib\\site-packages (from torch!=1.12.0,>=1.10->transformers[torch]) (3.0)\n",
      "Requirement already satisfied: sympy in c:\\users\\emely\\appdata\\local\\programs\\python\\python310\\lib\\site-packages (from torch!=1.12.0,>=1.10->transformers[torch]) (1.12)\n",
      "Requirement already satisfied: jinja2 in c:\\users\\emely\\appdata\\local\\programs\\python\\python310\\lib\\site-packages (from torch!=1.12.0,>=1.10->transformers[torch]) (3.1.2)\n",
      "Requirement already satisfied: colorama in c:\\users\\emely\\appdata\\roaming\\python\\python310\\site-packages (from tqdm>=4.27->transformers[torch]) (0.4.6)\n",
      "Requirement already satisfied: MarkupSafe>=2.0 in c:\\users\\emely\\appdata\\local\\programs\\python\\python310\\lib\\site-packages (from jinja2->torch!=1.12.0,>=1.10->transformers[torch]) (2.1.3)\n",
      "Requirement already satisfied: idna<4,>=2.5 in c:\\users\\emely\\appdata\\local\\programs\\python\\python310\\lib\\site-packages (from requests->transformers[torch]) (3.4)\n",
      "Requirement already satisfied: urllib3<3,>=1.21.1 in c:\\users\\emely\\appdata\\local\\programs\\python\\python310\\lib\\site-packages (from requests->transformers[torch]) (2.0.5)\n",
      "Requirement already satisfied: certifi>=2017.4.17 in c:\\users\\emely\\appdata\\local\\programs\\python\\python310\\lib\\site-packages (from requests->transformers[torch]) (2023.7.22)\n",
      "Requirement already satisfied: charset-normalizer<4,>=2 in c:\\users\\emely\\appdata\\local\\programs\\python\\python310\\lib\\site-packages (from requests->transformers[torch]) (3.2.0)\n",
      "Requirement already satisfied: mpmath>=0.19 in c:\\users\\emely\\appdata\\local\\programs\\python\\python310\\lib\\site-packages (from sympy->torch!=1.12.0,>=1.10->transformers[torch]) (1.3.0)\n",
      "Installing collected packages: transformers, accelerate\n",
      "  Attempting uninstall: accelerate\n",
      "    Found existing installation: accelerate 0.20.1\n",
      "    Uninstalling accelerate-0.20.1:\n",
      "      Successfully uninstalled accelerate-0.20.1\n",
      "Successfully installed accelerate-0.24.1 transformers-4.35.2\n"
     ]
    },
    {
     "name": "stderr",
     "output_type": "stream",
     "text": [
      "WARNING: You are using pip version 21.2.4; however, version 23.3.1 is available.\n",
      "You should consider upgrading via the 'C:\\Users\\emely\\AppData\\Local\\Programs\\Python\\Python310\\python.exe -m pip install --upgrade pip' command.\n"
     ]
    }
   ],
   "source": [
    "!pip uninstall accelerate -y\n",
    "!pip uninstall transformers -y\n",
    "!pip install accelerate==0.20.1\n",
    "!pip install transformers[torch] -U"
   ]
  },
  {
   "cell_type": "code",
   "execution_count": 16,
   "metadata": {},
   "outputs": [],
   "source": [
    "# Определение аргументов для тренировки модели Seq2Seq\n",
    "training_args = Seq2SeqTrainingArguments(\n",
    "    output_dir=\"./results\",\n",
    "    evaluation_strategy=\"steps\",\n",
    "    eval_steps=25,\n",
    "    logging_steps=25,\n",
    "    learning_rate=4e-4,\n",
    "    per_device_train_batch_size=4,\n",
    "    per_device_eval_batch_size=4,\n",
    "    gradient_accumulation_steps=64,\n",
    "    weight_decay=0.01,\n",
    "    save_total_limit=3,\n",
    "    num_train_epochs=1,\n",
    "    fp16=False,\n",
    "    predict_with_generate=True,\n",
    "    generation_max_length=max_target_tokens_count,\n",
    "    generation_num_beams=5\n",
    ")"
   ]
  },
  {
   "cell_type": "code",
   "execution_count": 17,
   "metadata": {},
   "outputs": [],
   "source": [
    "# Инициализация Seq2SeqTrainer с определенной моделью, аргументами тренировки и датасетами\n",
    "trainer = Seq2SeqTrainer(\n",
    "    model=model,\n",
    "    args=training_args,\n",
    "    train_dataset=tokenized_dataset[\"train\"],\n",
    "    eval_dataset=tokenized_dataset[\"test\"],\n",
    "    tokenizer=tokenizer,\n",
    "    data_collator=data_collator,\n",
    "    compute_metrics=compute_metrics\n",
    ")"
   ]
  },
  {
   "cell_type": "markdown",
   "metadata": {},
   "source": [
    "# Тренировка модели"
   ]
  },
  {
   "cell_type": "code",
   "execution_count": 18,
   "metadata": {},
   "outputs": [
    {
     "data": {
      "application/vnd.jupyter.widget-view+json": {
       "model_id": "548be0fc718449deb064d9b9a9d5d1b0",
       "version_major": 2,
       "version_minor": 0
      },
      "text/plain": [
       "  0%|          | 0/238 [00:00<?, ?it/s]"
      ]
     },
     "metadata": {},
     "output_type": "display_data"
    },
    {
     "name": "stdout",
     "output_type": "stream",
     "text": [
      "{'loss': 3.0563, 'learning_rate': 0.00035798319327731096, 'epoch': 0.1}\n"
     ]
    },
    {
     "data": {
      "application/vnd.jupyter.widget-view+json": {
       "model_id": "de58eddfd798478f9353139e8404ffe9",
       "version_major": 2,
       "version_minor": 0
      },
      "text/plain": [
       "  0%|          | 0/1699 [00:00<?, ?it/s]"
      ]
     },
     "metadata": {},
     "output_type": "display_data"
    },
    {
     "name": "stdout",
     "output_type": "stream",
     "text": [
      "{'eval_loss': 2.4588754177093506, 'eval_rouge1': 6.5166, 'eval_rouge2': 1.4112, 'eval_rougeL': 6.4723, 'eval_rougeLsum': 6.4584, 'eval_bleu': 4.5061, 'eval_gen_len': 18.9619, 'eval_char_len': 69.9463, 'eval_runtime': 1557.0421, 'eval_samples_per_second': 4.363, 'eval_steps_per_second': 1.091, 'epoch': 0.1}\n",
      "{'loss': 2.7557, 'learning_rate': 0.00031596638655462185, 'epoch': 0.21}\n"
     ]
    },
    {
     "data": {
      "application/vnd.jupyter.widget-view+json": {
       "model_id": "e96cce413bd9415bac86f35fd1f98f65",
       "version_major": 2,
       "version_minor": 0
      },
      "text/plain": [
       "  0%|          | 0/1699 [00:00<?, ?it/s]"
      ]
     },
     "metadata": {},
     "output_type": "display_data"
    },
    {
     "name": "stdout",
     "output_type": "stream",
     "text": [
      "{'eval_loss': 2.4454314708709717, 'eval_rouge1': 6.6149, 'eval_rouge2': 1.4501, 'eval_rougeL': 6.5815, 'eval_rougeLsum': 6.5602, 'eval_bleu': 4.5781, 'eval_gen_len': 18.9792, 'eval_char_len': 69.2059, 'eval_runtime': 2514.7834, 'eval_samples_per_second': 2.701, 'eval_steps_per_second': 0.676, 'epoch': 0.21}\n",
      "{'loss': 2.6872, 'learning_rate': 0.0002739495798319328, 'epoch': 0.31}\n"
     ]
    },
    {
     "data": {
      "application/vnd.jupyter.widget-view+json": {
       "model_id": "eb256f9178fc44c38955f8e5da90c1d4",
       "version_major": 2,
       "version_minor": 0
      },
      "text/plain": [
       "  0%|          | 0/1699 [00:00<?, ?it/s]"
      ]
     },
     "metadata": {},
     "output_type": "display_data"
    },
    {
     "name": "stdout",
     "output_type": "stream",
     "text": [
      "{'eval_loss': 2.3642337322235107, 'eval_rouge1': 6.3915, 'eval_rouge2': 1.3438, 'eval_rougeL': 6.3771, 'eval_rougeLsum': 6.3689, 'eval_bleu': 4.6407, 'eval_gen_len': 18.9679, 'eval_char_len': 69.4101, 'eval_runtime': 1862.2339, 'eval_samples_per_second': 3.648, 'eval_steps_per_second': 0.912, 'epoch': 0.31}\n",
      "{'loss': 2.8594, 'learning_rate': 0.00023193277310924374, 'epoch': 0.42}\n"
     ]
    },
    {
     "data": {
      "application/vnd.jupyter.widget-view+json": {
       "model_id": "794764a204e4444b8e8ca5b6221cedb5",
       "version_major": 2,
       "version_minor": 0
      },
      "text/plain": [
       "  0%|          | 0/1699 [00:00<?, ?it/s]"
      ]
     },
     "metadata": {},
     "output_type": "display_data"
    },
    {
     "name": "stdout",
     "output_type": "stream",
     "text": [
      "{'eval_loss': 2.3010685443878174, 'eval_rouge1': 6.4699, 'eval_rouge2': 1.3449, 'eval_rougeL': 6.4503, 'eval_rougeLsum': 6.4196, 'eval_bleu': 4.7976, 'eval_gen_len': 18.953, 'eval_char_len': 69.1987, 'eval_runtime': 1615.64, 'eval_samples_per_second': 4.205, 'eval_steps_per_second': 1.052, 'epoch': 0.42}\n",
      "{'loss': 2.7721, 'learning_rate': 0.00018991596638655463, 'epoch': 0.52}\n"
     ]
    },
    {
     "data": {
      "application/vnd.jupyter.widget-view+json": {
       "model_id": "b5e4833b3b5f4b348c5eaeb31ac1ccf6",
       "version_major": 2,
       "version_minor": 0
      },
      "text/plain": [
       "  0%|          | 0/1699 [00:00<?, ?it/s]"
      ]
     },
     "metadata": {},
     "output_type": "display_data"
    },
    {
     "name": "stdout",
     "output_type": "stream",
     "text": [
      "{'eval_loss': 2.279871702194214, 'eval_rouge1': 7.0051, 'eval_rouge2': 1.5968, 'eval_rougeL': 6.9607, 'eval_rougeLsum': 6.9551, 'eval_bleu': 4.9809, 'eval_gen_len': 18.9745, 'eval_char_len': 69.12, 'eval_runtime': 1533.712, 'eval_samples_per_second': 4.429, 'eval_steps_per_second': 1.108, 'epoch': 0.52}\n",
      "{'loss': 2.7084, 'learning_rate': 0.00014789915966386557, 'epoch': 0.63}\n"
     ]
    },
    {
     "data": {
      "application/vnd.jupyter.widget-view+json": {
       "model_id": "63fbe42c6c3c4d8f8a40119c09eaaa0e",
       "version_major": 2,
       "version_minor": 0
      },
      "text/plain": [
       "  0%|          | 0/1699 [00:00<?, ?it/s]"
      ]
     },
     "metadata": {},
     "output_type": "display_data"
    },
    {
     "name": "stdout",
     "output_type": "stream",
     "text": [
      "{'eval_loss': 2.270625591278076, 'eval_rouge1': 6.8653, 'eval_rouge2': 1.6759, 'eval_rougeL': 6.8323, 'eval_rougeLsum': 6.8203, 'eval_bleu': 5.1037, 'eval_gen_len': 18.9841, 'eval_char_len': 69.4141, 'eval_runtime': 1530.781, 'eval_samples_per_second': 4.438, 'eval_steps_per_second': 1.11, 'epoch': 0.63}\n",
      "{'loss': 2.7013, 'learning_rate': 0.00010588235294117647, 'epoch': 0.73}\n"
     ]
    },
    {
     "data": {
      "application/vnd.jupyter.widget-view+json": {
       "model_id": "47227d971e2c49cc80594e397d5712b3",
       "version_major": 2,
       "version_minor": 0
      },
      "text/plain": [
       "  0%|          | 0/1699 [00:00<?, ?it/s]"
      ]
     },
     "metadata": {},
     "output_type": "display_data"
    },
    {
     "name": "stdout",
     "output_type": "stream",
     "text": [
      "{'eval_loss': 2.2623367309570312, 'eval_rouge1': 6.8835, 'eval_rouge2': 1.6848, 'eval_rougeL': 6.8666, 'eval_rougeLsum': 6.8684, 'eval_bleu': 5.0751, 'eval_gen_len': 18.9928, 'eval_char_len': 69.5227, 'eval_runtime': 1532.149, 'eval_samples_per_second': 4.434, 'eval_steps_per_second': 1.109, 'epoch': 0.73}\n",
      "{'loss': 2.6501, 'learning_rate': 6.386554621848739e-05, 'epoch': 0.84}\n"
     ]
    },
    {
     "data": {
      "application/vnd.jupyter.widget-view+json": {
       "model_id": "bc7ad3b572e94f2db5aedf562e8c9631",
       "version_major": 2,
       "version_minor": 0
      },
      "text/plain": [
       "  0%|          | 0/1699 [00:00<?, ?it/s]"
      ]
     },
     "metadata": {},
     "output_type": "display_data"
    },
    {
     "name": "stdout",
     "output_type": "stream",
     "text": [
      "{'eval_loss': 2.228257894515991, 'eval_rouge1': 6.998, 'eval_rouge2': 1.6984, 'eval_rougeL': 6.959, 'eval_rougeLsum': 6.9597, 'eval_bleu': 5.1361, 'eval_gen_len': 18.9903, 'eval_char_len': 69.3083, 'eval_runtime': 1524.013, 'eval_samples_per_second': 4.457, 'eval_steps_per_second': 1.115, 'epoch': 0.84}\n",
      "{'loss': 2.6484, 'learning_rate': 2.184873949579832e-05, 'epoch': 0.94}\n"
     ]
    },
    {
     "data": {
      "application/vnd.jupyter.widget-view+json": {
       "model_id": "f83ce562e3dd4527a41c12b5257028b0",
       "version_major": 2,
       "version_minor": 0
      },
      "text/plain": [
       "  0%|          | 0/1699 [00:00<?, ?it/s]"
      ]
     },
     "metadata": {},
     "output_type": "display_data"
    },
    {
     "name": "stdout",
     "output_type": "stream",
     "text": [
      "{'eval_loss': 2.2456958293914795, 'eval_rouge1': 7.0569, 'eval_rouge2': 1.7741, 'eval_rougeL': 6.9995, 'eval_rougeLsum': 6.9869, 'eval_bleu': 5.0972, 'eval_gen_len': 18.9941, 'eval_char_len': 69.4322, 'eval_runtime': 1522.497, 'eval_samples_per_second': 4.462, 'eval_steps_per_second': 1.116, 'epoch': 0.94}\n",
      "{'train_runtime': 27582.2646, 'train_samples_per_second': 2.21, 'train_steps_per_second': 0.009, 'train_loss': 2.7541401967281054, 'epoch': 1.0}\n"
     ]
    },
    {
     "data": {
      "text/plain": [
       "TrainOutput(global_step=238, training_loss=2.7541401967281054, metrics={'train_runtime': 27582.2646, 'train_samples_per_second': 2.21, 'train_steps_per_second': 0.009, 'train_loss': 2.7541401967281054, 'epoch': 1.0})"
      ]
     },
     "execution_count": 18,
     "metadata": {},
     "output_type": "execute_result"
    }
   ],
   "source": [
    "trainer.train()"
   ]
  },
  {
   "cell_type": "markdown",
   "metadata": {},
   "source": [
    "# Оценка обученной модели"
   ]
  },
  {
   "cell_type": "code",
   "execution_count": 19,
   "metadata": {},
   "outputs": [
    {
     "data": {
      "application/vnd.jupyter.widget-view+json": {
       "model_id": "24464aee10f8401fba28705d1beea334",
       "version_major": 2,
       "version_minor": 0
      },
      "text/plain": [
       "  0%|          | 0/1699 [00:00<?, ?it/s]"
      ]
     },
     "metadata": {},
     "output_type": "display_data"
    },
    {
     "data": {
      "text/plain": [
       "{'eval_loss': 2.229231595993042,\n",
       " 'eval_rouge1': 7.0972,\n",
       " 'eval_rouge2': 1.781,\n",
       " 'eval_rougeL': 7.0354,\n",
       " 'eval_rougeLsum': 7.0324,\n",
       " 'eval_bleu': 5.069,\n",
       " 'eval_gen_len': 18.9885,\n",
       " 'eval_char_len': 69.3579,\n",
       " 'eval_runtime': 7410.3835,\n",
       " 'eval_samples_per_second': 0.917,\n",
       " 'eval_steps_per_second': 0.229,\n",
       " 'epoch': 1.0}"
      ]
     },
     "execution_count": 19,
     "metadata": {},
     "output_type": "execute_result"
    }
   ],
   "source": [
    "trainer.evaluate()"
   ]
  }
 ],
 "metadata": {
  "colab": {
   "provenance": []
  },
  "kernelspec": {
   "display_name": "Python 3",
   "language": "python",
   "name": "python3"
  },
  "language_info": {
   "codemirror_mode": {
    "name": "ipython",
    "version": 3
   },
   "file_extension": ".py",
   "mimetype": "text/x-python",
   "name": "python",
   "nbconvert_exporter": "python",
   "pygments_lexer": "ipython3",
   "version": "3.10.2"
  }
 },
 "nbformat": 4,
 "nbformat_minor": 1
}
